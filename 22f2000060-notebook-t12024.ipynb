{
 "cells": [
  {
   "cell_type": "code",
   "execution_count": 1,
   "id": "dbd81c37",
   "metadata": {
    "_cell_guid": "b1076dfc-b9ad-4769-8c92-a6c4dae69d19",
    "_uuid": "8f2839f25d086af736a60e9eeb907d3b93b6e0e5",
    "execution": {
     "iopub.execute_input": "2024-05-28T07:31:13.078938Z",
     "iopub.status.busy": "2024-05-28T07:31:13.078524Z",
     "iopub.status.idle": "2024-05-28T07:31:13.961183Z",
     "shell.execute_reply": "2024-05-28T07:31:13.959825Z"
    },
    "papermill": {
     "duration": 0.901492,
     "end_time": "2024-05-28T07:31:13.963778",
     "exception": false,
     "start_time": "2024-05-28T07:31:13.062286",
     "status": "completed"
    },
    "tags": []
   },
   "outputs": [
    {
     "name": "stdout",
     "output_type": "stream",
     "text": [
      "/kaggle/input/recipe-for-rating-predict-food-ratings-using-ml/sample.csv\n",
      "/kaggle/input/recipe-for-rating-predict-food-ratings-using-ml/train.csv\n",
      "/kaggle/input/recipe-for-rating-predict-food-ratings-using-ml/test.csv\n"
     ]
    }
   ],
   "source": [
    "import numpy as np\n",
    "import pandas as pd \n",
    "\n",
    "import os\n",
    "for dirname, _, filenames in os.walk('/kaggle/input'):\n",
    "    for filename in filenames:\n",
    "        print(os.path.join(dirname, filename))"
   ]
  },
  {
   "cell_type": "markdown",
   "id": "26c2626b",
   "metadata": {
    "papermill": {
     "duration": 0.012813,
     "end_time": "2024-05-28T07:31:13.989944",
     "exception": false,
     "start_time": "2024-05-28T07:31:13.977131",
     "status": "completed"
    },
    "tags": []
   },
   "source": [
    "# Recipe for Rating: Predict Food Ratings using ML"
   ]
  },
  {
   "cell_type": "markdown",
   "id": "77b08eb5",
   "metadata": {
    "papermill": {
     "duration": 0.012649,
     "end_time": "2024-05-28T07:31:14.015749",
     "exception": false,
     "start_time": "2024-05-28T07:31:14.003100",
     "status": "completed"
    },
    "tags": []
   },
   "source": [
    "### The dataset is appropriately loaded and stored into corresponding variables.\n"
   ]
  },
  {
   "cell_type": "code",
   "execution_count": 2,
   "id": "5c796ad4",
   "metadata": {
    "execution": {
     "iopub.execute_input": "2024-05-28T07:31:14.044484Z",
     "iopub.status.busy": "2024-05-28T07:31:14.043935Z",
     "iopub.status.idle": "2024-05-28T07:31:14.308058Z",
     "shell.execute_reply": "2024-05-28T07:31:14.306957Z"
    },
    "papermill": {
     "duration": 0.281907,
     "end_time": "2024-05-28T07:31:14.310645",
     "exception": false,
     "start_time": "2024-05-28T07:31:14.028738",
     "status": "completed"
    },
    "tags": []
   },
   "outputs": [],
   "source": [
    "# loading competitions data\n",
    "sample_data = pd.read_csv('/kaggle/input/recipe-for-rating-predict-food-ratings-using-ml/sample.csv')\n",
    "train_data = pd.read_csv('/kaggle/input/recipe-for-rating-predict-food-ratings-using-ml/train.csv')\n",
    "test_data = pd.read_csv('/kaggle/input/recipe-for-rating-predict-food-ratings-using-ml/test.csv')\n"
   ]
  },
  {
   "cell_type": "code",
   "execution_count": 3,
   "id": "b322df87",
   "metadata": {
    "execution": {
     "iopub.execute_input": "2024-05-28T07:31:14.339268Z",
     "iopub.status.busy": "2024-05-28T07:31:14.338477Z",
     "iopub.status.idle": "2024-05-28T07:31:14.357855Z",
     "shell.execute_reply": "2024-05-28T07:31:14.356741Z"
    },
    "papermill": {
     "duration": 0.036356,
     "end_time": "2024-05-28T07:31:14.360387",
     "exception": false,
     "start_time": "2024-05-28T07:31:14.324031",
     "status": "completed"
    },
    "tags": []
   },
   "outputs": [
    {
     "data": {
      "text/html": [
       "<div>\n",
       "<style scoped>\n",
       "    .dataframe tbody tr th:only-of-type {\n",
       "        vertical-align: middle;\n",
       "    }\n",
       "\n",
       "    .dataframe tbody tr th {\n",
       "        vertical-align: top;\n",
       "    }\n",
       "\n",
       "    .dataframe thead th {\n",
       "        text-align: right;\n",
       "    }\n",
       "</style>\n",
       "<table border=\"1\" class=\"dataframe\">\n",
       "  <thead>\n",
       "    <tr style=\"text-align: right;\">\n",
       "      <th></th>\n",
       "      <th>ID</th>\n",
       "      <th>Rating</th>\n",
       "    </tr>\n",
       "  </thead>\n",
       "  <tbody>\n",
       "    <tr>\n",
       "      <th>0</th>\n",
       "      <td>1</td>\n",
       "      <td>5</td>\n",
       "    </tr>\n",
       "    <tr>\n",
       "      <th>1</th>\n",
       "      <td>2</td>\n",
       "      <td>2</td>\n",
       "    </tr>\n",
       "    <tr>\n",
       "      <th>2</th>\n",
       "      <td>3</td>\n",
       "      <td>4</td>\n",
       "    </tr>\n",
       "    <tr>\n",
       "      <th>3</th>\n",
       "      <td>4</td>\n",
       "      <td>2</td>\n",
       "    </tr>\n",
       "    <tr>\n",
       "      <th>4</th>\n",
       "      <td>5</td>\n",
       "      <td>4</td>\n",
       "    </tr>\n",
       "  </tbody>\n",
       "</table>\n",
       "</div>"
      ],
      "text/plain": [
       "   ID  Rating\n",
       "0   1       5\n",
       "1   2       2\n",
       "2   3       4\n",
       "3   4       2\n",
       "4   5       4"
      ]
     },
     "execution_count": 3,
     "metadata": {},
     "output_type": "execute_result"
    }
   ],
   "source": [
    "# reading sample data\n",
    "sample_data.head()"
   ]
  },
  {
   "cell_type": "code",
   "execution_count": 4,
   "id": "cd9911bd",
   "metadata": {
    "execution": {
     "iopub.execute_input": "2024-05-28T07:31:14.389056Z",
     "iopub.status.busy": "2024-05-28T07:31:14.388630Z",
     "iopub.status.idle": "2024-05-28T07:31:14.405266Z",
     "shell.execute_reply": "2024-05-28T07:31:14.403885Z"
    },
    "papermill": {
     "duration": 0.03371,
     "end_time": "2024-05-28T07:31:14.407630",
     "exception": false,
     "start_time": "2024-05-28T07:31:14.373920",
     "status": "completed"
    },
    "tags": []
   },
   "outputs": [
    {
     "data": {
      "text/html": [
       "<div>\n",
       "<style scoped>\n",
       "    .dataframe tbody tr th:only-of-type {\n",
       "        vertical-align: middle;\n",
       "    }\n",
       "\n",
       "    .dataframe tbody tr th {\n",
       "        vertical-align: top;\n",
       "    }\n",
       "\n",
       "    .dataframe thead th {\n",
       "        text-align: right;\n",
       "    }\n",
       "</style>\n",
       "<table border=\"1\" class=\"dataframe\">\n",
       "  <thead>\n",
       "    <tr style=\"text-align: right;\">\n",
       "      <th></th>\n",
       "      <th>ID</th>\n",
       "      <th>RecipeNumber</th>\n",
       "      <th>RecipeCode</th>\n",
       "      <th>RecipeName</th>\n",
       "      <th>CommentID</th>\n",
       "      <th>UserID</th>\n",
       "      <th>UserName</th>\n",
       "      <th>UserReputation</th>\n",
       "      <th>CreationTimestamp</th>\n",
       "      <th>ReplyCount</th>\n",
       "      <th>ThumbsUpCount</th>\n",
       "      <th>ThumbsDownCount</th>\n",
       "      <th>Rating</th>\n",
       "      <th>BestScore</th>\n",
       "      <th>Recipe_Review</th>\n",
       "    </tr>\n",
       "  </thead>\n",
       "  <tbody>\n",
       "    <tr>\n",
       "      <th>0</th>\n",
       "      <td>70</td>\n",
       "      <td>71</td>\n",
       "      <td>12259</td>\n",
       "      <td>Banana Bars with Cream Cheese Frosting</td>\n",
       "      <td>sp_aUSaElGf_12259_c_149978</td>\n",
       "      <td>u_1oKVaBmiEKwAFyiHrDLoWpbel0J</td>\n",
       "      <td>misscoffeepot</td>\n",
       "      <td>20</td>\n",
       "      <td>1622717078</td>\n",
       "      <td>0</td>\n",
       "      <td>0</td>\n",
       "      <td>0</td>\n",
       "      <td>5</td>\n",
       "      <td>100</td>\n",
       "      <td>great recipe! I have made them just as written...</td>\n",
       "    </tr>\n",
       "    <tr>\n",
       "      <th>1</th>\n",
       "      <td>72</td>\n",
       "      <td>88</td>\n",
       "      <td>8202</td>\n",
       "      <td>Simple Taco Soup</td>\n",
       "      <td>sp_aUSaElGf_8202_c_310332</td>\n",
       "      <td>u_1oKZeRIXYzGNhGW8OMR3O4lX1ih</td>\n",
       "      <td>MichelleMalone</td>\n",
       "      <td>1</td>\n",
       "      <td>1622717852</td>\n",
       "      <td>0</td>\n",
       "      <td>0</td>\n",
       "      <td>1</td>\n",
       "      <td>5</td>\n",
       "      <td>100</td>\n",
       "      <td>This is an easy and quick recipe that is great...</td>\n",
       "    </tr>\n",
       "    <tr>\n",
       "      <th>2</th>\n",
       "      <td>458</td>\n",
       "      <td>3</td>\n",
       "      <td>2832</td>\n",
       "      <td>Cheeseburger Soup</td>\n",
       "      <td>sp_aUSaElGf_2832_c_206522</td>\n",
       "      <td>u_1oKYHUtdaD48KJCDYq5wfpAUxWz</td>\n",
       "      <td>jeannem32</td>\n",
       "      <td>1</td>\n",
       "      <td>1622717357</td>\n",
       "      <td>0</td>\n",
       "      <td>0</td>\n",
       "      <td>0</td>\n",
       "      <td>3</td>\n",
       "      <td>100</td>\n",
       "      <td>I think I was looking for something extra spec...</td>\n",
       "    </tr>\n",
       "    <tr>\n",
       "      <th>3</th>\n",
       "      <td>7</td>\n",
       "      <td>50</td>\n",
       "      <td>100276</td>\n",
       "      <td>Grilled Huli Huli Chicken</td>\n",
       "      <td>sp_aUSaElGf_100276_c_434088</td>\n",
       "      <td>u_1oKZCQcKQZdQhDVBS7oISc216VA</td>\n",
       "      <td>ds422</td>\n",
       "      <td>1</td>\n",
       "      <td>1622648899</td>\n",
       "      <td>0</td>\n",
       "      <td>0</td>\n",
       "      <td>0</td>\n",
       "      <td>5</td>\n",
       "      <td>100</td>\n",
       "      <td>This is our favorite grilled chicken recipe.  ...</td>\n",
       "    </tr>\n",
       "    <tr>\n",
       "      <th>4</th>\n",
       "      <td>60</td>\n",
       "      <td>12</td>\n",
       "      <td>19731</td>\n",
       "      <td>Cauliflower Soup</td>\n",
       "      <td>sp_aUSaElGf_19731_c_387011</td>\n",
       "      <td>u_1oKd4sudZQPgu6YALiC7bW7mKMs</td>\n",
       "      <td>SusanHoward</td>\n",
       "      <td>1</td>\n",
       "      <td>1622718260</td>\n",
       "      <td>0</td>\n",
       "      <td>0</td>\n",
       "      <td>0</td>\n",
       "      <td>4</td>\n",
       "      <td>100</td>\n",
       "      <td>Great basic recipe. I added 2 teaspoons Tuscan...</td>\n",
       "    </tr>\n",
       "  </tbody>\n",
       "</table>\n",
       "</div>"
      ],
      "text/plain": [
       "    ID  RecipeNumber  RecipeCode                              RecipeName  \\\n",
       "0   70            71       12259  Banana Bars with Cream Cheese Frosting   \n",
       "1   72            88        8202                        Simple Taco Soup   \n",
       "2  458             3        2832                       Cheeseburger Soup   \n",
       "3    7            50      100276               Grilled Huli Huli Chicken   \n",
       "4   60            12       19731                        Cauliflower Soup   \n",
       "\n",
       "                     CommentID                         UserID        UserName  \\\n",
       "0   sp_aUSaElGf_12259_c_149978  u_1oKVaBmiEKwAFyiHrDLoWpbel0J   misscoffeepot   \n",
       "1    sp_aUSaElGf_8202_c_310332  u_1oKZeRIXYzGNhGW8OMR3O4lX1ih  MichelleMalone   \n",
       "2    sp_aUSaElGf_2832_c_206522  u_1oKYHUtdaD48KJCDYq5wfpAUxWz       jeannem32   \n",
       "3  sp_aUSaElGf_100276_c_434088  u_1oKZCQcKQZdQhDVBS7oISc216VA           ds422   \n",
       "4   sp_aUSaElGf_19731_c_387011  u_1oKd4sudZQPgu6YALiC7bW7mKMs     SusanHoward   \n",
       "\n",
       "   UserReputation  CreationTimestamp  ReplyCount  ThumbsUpCount  \\\n",
       "0              20         1622717078           0              0   \n",
       "1               1         1622717852           0              0   \n",
       "2               1         1622717357           0              0   \n",
       "3               1         1622648899           0              0   \n",
       "4               1         1622718260           0              0   \n",
       "\n",
       "   ThumbsDownCount  Rating  BestScore  \\\n",
       "0                0       5        100   \n",
       "1                1       5        100   \n",
       "2                0       3        100   \n",
       "3                0       5        100   \n",
       "4                0       4        100   \n",
       "\n",
       "                                       Recipe_Review  \n",
       "0  great recipe! I have made them just as written...  \n",
       "1  This is an easy and quick recipe that is great...  \n",
       "2  I think I was looking for something extra spec...  \n",
       "3  This is our favorite grilled chicken recipe.  ...  \n",
       "4  Great basic recipe. I added 2 teaspoons Tuscan...  "
      ]
     },
     "execution_count": 4,
     "metadata": {},
     "output_type": "execute_result"
    }
   ],
   "source": [
    "# reading train data\n",
    "train_data.head()"
   ]
  },
  {
   "cell_type": "code",
   "execution_count": 5,
   "id": "d97d30b2",
   "metadata": {
    "execution": {
     "iopub.execute_input": "2024-05-28T07:31:14.438143Z",
     "iopub.status.busy": "2024-05-28T07:31:14.437687Z",
     "iopub.status.idle": "2024-05-28T07:31:14.455890Z",
     "shell.execute_reply": "2024-05-28T07:31:14.454684Z"
    },
    "papermill": {
     "duration": 0.036094,
     "end_time": "2024-05-28T07:31:14.458152",
     "exception": false,
     "start_time": "2024-05-28T07:31:14.422058",
     "status": "completed"
    },
    "tags": []
   },
   "outputs": [
    {
     "data": {
      "text/html": [
       "<div>\n",
       "<style scoped>\n",
       "    .dataframe tbody tr th:only-of-type {\n",
       "        vertical-align: middle;\n",
       "    }\n",
       "\n",
       "    .dataframe tbody tr th {\n",
       "        vertical-align: top;\n",
       "    }\n",
       "\n",
       "    .dataframe thead th {\n",
       "        text-align: right;\n",
       "    }\n",
       "</style>\n",
       "<table border=\"1\" class=\"dataframe\">\n",
       "  <thead>\n",
       "    <tr style=\"text-align: right;\">\n",
       "      <th></th>\n",
       "      <th>ID</th>\n",
       "      <th>RecipeNumber</th>\n",
       "      <th>RecipeCode</th>\n",
       "      <th>RecipeName</th>\n",
       "      <th>CommentID</th>\n",
       "      <th>UserID</th>\n",
       "      <th>UserName</th>\n",
       "      <th>UserReputation</th>\n",
       "      <th>CreationTimestamp</th>\n",
       "      <th>ReplyCount</th>\n",
       "      <th>ThumbsUpCount</th>\n",
       "      <th>ThumbsDownCount</th>\n",
       "      <th>BestScore</th>\n",
       "      <th>Recipe_Review</th>\n",
       "    </tr>\n",
       "  </thead>\n",
       "  <tbody>\n",
       "    <tr>\n",
       "      <th>0</th>\n",
       "      <td>86</td>\n",
       "      <td>45</td>\n",
       "      <td>41384</td>\n",
       "      <td>Black Bean ‘n’ Pumpkin Chili</td>\n",
       "      <td>sp_aUSaElGf_41384_c_341929</td>\n",
       "      <td>u_1oKc4U6bh65cEli8Z8eTIf98Vpr</td>\n",
       "      <td>kalloween</td>\n",
       "      <td>1</td>\n",
       "      <td>1622718043</td>\n",
       "      <td>0</td>\n",
       "      <td>0</td>\n",
       "      <td>0</td>\n",
       "      <td>100</td>\n",
       "      <td>This was so good!!  The pumpkin was perfect as...</td>\n",
       "    </tr>\n",
       "    <tr>\n",
       "      <th>1</th>\n",
       "      <td>102</td>\n",
       "      <td>53</td>\n",
       "      <td>3143</td>\n",
       "      <td>Pumpkin Bars</td>\n",
       "      <td>sp_aUSaElGf_3143_c_274545</td>\n",
       "      <td>u_1oKW5seFLQMSwAeOfBVmwJizy5D</td>\n",
       "      <td>chocolate desert</td>\n",
       "      <td>1</td>\n",
       "      <td>1622717685</td>\n",
       "      <td>0</td>\n",
       "      <td>0</td>\n",
       "      <td>1</td>\n",
       "      <td>100</td>\n",
       "      <td>So good!   Could not stop eating them, so bad....</td>\n",
       "    </tr>\n",
       "    <tr>\n",
       "      <th>2</th>\n",
       "      <td>156</td>\n",
       "      <td>53</td>\n",
       "      <td>3143</td>\n",
       "      <td>Pumpkin Bars</td>\n",
       "      <td>sp_aUSaElGf_3143_c_398512</td>\n",
       "      <td>u_1oKZ6GUIAIol8xe6oEI7t1Mpxdz</td>\n",
       "      <td>Vantreesta</td>\n",
       "      <td>1</td>\n",
       "      <td>1622718307</td>\n",
       "      <td>0</td>\n",
       "      <td>0</td>\n",
       "      <td>0</td>\n",
       "      <td>100</td>\n",
       "      <td>I use a small ladle to fill muffin cups.</td>\n",
       "    </tr>\n",
       "    <tr>\n",
       "      <th>3</th>\n",
       "      <td>18</td>\n",
       "      <td>89</td>\n",
       "      <td>1324</td>\n",
       "      <td>Porcupine Meatballs</td>\n",
       "      <td>sp_aUSaElGf_1324_c_431662</td>\n",
       "      <td>u_1oKWCP33NVk4Osfpu4VJuIckEF0</td>\n",
       "      <td>Roberta L.Beauchamp</td>\n",
       "      <td>1</td>\n",
       "      <td>1622648872</td>\n",
       "      <td>0</td>\n",
       "      <td>4</td>\n",
       "      <td>3</td>\n",
       "      <td>212</td>\n",
       "      <td>I made this and followed the instructions as d...</td>\n",
       "    </tr>\n",
       "    <tr>\n",
       "      <th>4</th>\n",
       "      <td>27</td>\n",
       "      <td>70</td>\n",
       "      <td>32264</td>\n",
       "      <td>Easy Chicken Enchiladas</td>\n",
       "      <td>sp_aUSaElGf_32264_c_423935</td>\n",
       "      <td>u_1oKVhIJMuUlrSCVkbO1jheVTol8</td>\n",
       "      <td>fhquilting</td>\n",
       "      <td>1</td>\n",
       "      <td>1622718460</td>\n",
       "      <td>0</td>\n",
       "      <td>0</td>\n",
       "      <td>1</td>\n",
       "      <td>100</td>\n",
       "      <td>Very Good!  I used corn tortillas.  Used fresh...</td>\n",
       "    </tr>\n",
       "  </tbody>\n",
       "</table>\n",
       "</div>"
      ],
      "text/plain": [
       "    ID  RecipeNumber  RecipeCode                    RecipeName  \\\n",
       "0   86            45       41384  Black Bean ‘n’ Pumpkin Chili   \n",
       "1  102            53        3143                  Pumpkin Bars   \n",
       "2  156            53        3143                  Pumpkin Bars   \n",
       "3   18            89        1324           Porcupine Meatballs   \n",
       "4   27            70       32264       Easy Chicken Enchiladas   \n",
       "\n",
       "                    CommentID                         UserID  \\\n",
       "0  sp_aUSaElGf_41384_c_341929  u_1oKc4U6bh65cEli8Z8eTIf98Vpr   \n",
       "1   sp_aUSaElGf_3143_c_274545  u_1oKW5seFLQMSwAeOfBVmwJizy5D   \n",
       "2   sp_aUSaElGf_3143_c_398512  u_1oKZ6GUIAIol8xe6oEI7t1Mpxdz   \n",
       "3   sp_aUSaElGf_1324_c_431662  u_1oKWCP33NVk4Osfpu4VJuIckEF0   \n",
       "4  sp_aUSaElGf_32264_c_423935  u_1oKVhIJMuUlrSCVkbO1jheVTol8   \n",
       "\n",
       "              UserName  UserReputation  CreationTimestamp  ReplyCount  \\\n",
       "0            kalloween               1         1622718043           0   \n",
       "1     chocolate desert               1         1622717685           0   \n",
       "2           Vantreesta               1         1622718307           0   \n",
       "3  Roberta L.Beauchamp               1         1622648872           0   \n",
       "4           fhquilting               1         1622718460           0   \n",
       "\n",
       "   ThumbsUpCount  ThumbsDownCount  BestScore  \\\n",
       "0              0                0        100   \n",
       "1              0                1        100   \n",
       "2              0                0        100   \n",
       "3              4                3        212   \n",
       "4              0                1        100   \n",
       "\n",
       "                                       Recipe_Review  \n",
       "0  This was so good!!  The pumpkin was perfect as...  \n",
       "1  So good!   Could not stop eating them, so bad....  \n",
       "2           I use a small ladle to fill muffin cups.  \n",
       "3  I made this and followed the instructions as d...  \n",
       "4  Very Good!  I used corn tortillas.  Used fresh...  "
      ]
     },
     "execution_count": 5,
     "metadata": {},
     "output_type": "execute_result"
    }
   ],
   "source": [
    "# reading test data\n",
    "test_data.head()"
   ]
  },
  {
   "cell_type": "markdown",
   "id": "88ab03c9",
   "metadata": {
    "papermill": {
     "duration": 0.014089,
     "end_time": "2024-05-28T07:31:14.486185",
     "exception": false,
     "start_time": "2024-05-28T07:31:14.472096",
     "status": "completed"
    },
    "tags": []
   },
   "source": [
    "# Exploratory data analysis\n",
    "---\n",
    "\n"
   ]
  },
  {
   "cell_type": "markdown",
   "id": "8cc11cf7",
   "metadata": {
    "papermill": {
     "duration": 0.013624,
     "end_time": "2024-05-28T07:31:14.513647",
     "exception": false,
     "start_time": "2024-05-28T07:31:14.500023",
     "status": "completed"
    },
    "tags": []
   },
   "source": [
    "#### ✌️<u>**Visualizing key statistics and relationships in the data**</u>\n",
    "\n"
   ]
  },
  {
   "cell_type": "code",
   "execution_count": 6,
   "id": "534ff59a",
   "metadata": {
    "execution": {
     "iopub.execute_input": "2024-05-28T07:31:14.544273Z",
     "iopub.status.busy": "2024-05-28T07:31:14.543421Z",
     "iopub.status.idle": "2024-05-28T07:31:14.575148Z",
     "shell.execute_reply": "2024-05-28T07:31:14.574110Z"
    },
    "papermill": {
     "duration": 0.049931,
     "end_time": "2024-05-28T07:31:14.577824",
     "exception": false,
     "start_time": "2024-05-28T07:31:14.527893",
     "status": "completed"
    },
    "tags": []
   },
   "outputs": [
    {
     "name": "stdout",
     "output_type": "stream",
     "text": [
      "<class 'pandas.core.frame.DataFrame'>\n",
      "RangeIndex: 13636 entries, 0 to 13635\n",
      "Data columns (total 15 columns):\n",
      " #   Column             Non-Null Count  Dtype \n",
      "---  ------             --------------  ----- \n",
      " 0   ID                 13636 non-null  int64 \n",
      " 1   RecipeNumber       13636 non-null  int64 \n",
      " 2   RecipeCode         13636 non-null  int64 \n",
      " 3   RecipeName         13636 non-null  object\n",
      " 4   CommentID          13636 non-null  object\n",
      " 5   UserID             13636 non-null  object\n",
      " 6   UserName           13636 non-null  object\n",
      " 7   UserReputation     13636 non-null  int64 \n",
      " 8   CreationTimestamp  13636 non-null  int64 \n",
      " 9   ReplyCount         13636 non-null  int64 \n",
      " 10  ThumbsUpCount      13636 non-null  int64 \n",
      " 11  ThumbsDownCount    13636 non-null  int64 \n",
      " 12  Rating             13636 non-null  int64 \n",
      " 13  BestScore          13636 non-null  int64 \n",
      " 14  Recipe_Review      13634 non-null  object\n",
      "dtypes: int64(10), object(5)\n",
      "memory usage: 1.6+ MB\n"
     ]
    }
   ],
   "source": [
    "train_data.info()"
   ]
  },
  {
   "cell_type": "markdown",
   "id": "5e9ed47b",
   "metadata": {
    "papermill": {
     "duration": 0.014253,
     "end_time": "2024-05-28T07:31:14.665586",
     "exception": false,
     "start_time": "2024-05-28T07:31:14.651333",
     "status": "completed"
    },
    "tags": []
   },
   "source": [
    "### Data Overview\n",
    "\n",
    "- **Total Entries:** 13,636\n",
    "- **Columns:** 15\n",
    "\n",
    "### Columns Description\n",
    "\n",
    "1. **ID:** Unique identifier for each entry.\n",
    "2. **RecipeNumber:** Placement of the recipe on the top 100 recipes list.\n",
    "3. **RecipeCode:** Unique ID of the recipe used by the site.\n",
    "4. **RecipeName:** Name of the recipe the comment was posted on.\n",
    "5. **CommentID:** Unique ID of the comment.\n",
    "6. **UserID:** Unique ID of the user who left the comment.\n",
    "7. **UserName:** Name of the user.\n",
    "8. **UserReputation:** Internal score of the site, roughly quantifying the past behavior of the user.\n",
    "9. **CreationTimestamp:** Time at which the comment was posted as a Unix timestamp.\n",
    "10. **ReplyCount:** Number of replies to the comment.\n",
    "11. **ThumbsUpCount:** Number of up-votes the comment has received.\n",
    "12. **ThumbsDownCount:** Number of down-votes the comment has received.\n",
    "13. **Rating:** The score on a 1 to 5 scale that the user gave to the recipe. A score of 0 means that no score was given (Target Variable).\n",
    "14. **BestScore:** Score of the comment, likely used by the site to help determine the order comments appear in.\n",
    "15. **Recipe_Review:** Text content of the comment.\n",
    "\n",
    "### Insights\n",
    "\n",
    "- **Data Completeness:** All columns have 13,636 non-null entries, except for the \"Recipe_Review\" column, which has 13,634 non-null entries. This indicates two missing values in the \"Recipe_Review\" column.\n",
    "- **Data Types:** Most columns contain integer values, except for \"RecipeName,\" \"CommentID,\" \"UserID,\" \"UserName,\" and \"Recipe_Review,\" which are of type object (likely strings).\n",
    "- **Target Variable:** The \"Rating\" column appears to be the target variable, representing the score given by users to the recipe.\n",
    "- **User Interaction:** The dataset provides insights into user interactions with recipes, including ratings, comments, and engagement metrics such as reply count and thumbs-up/down count.\n"
   ]
  },
  {
   "cell_type": "code",
   "execution_count": 7,
   "id": "3f0a1397",
   "metadata": {
    "execution": {
     "iopub.execute_input": "2024-05-28T07:31:14.695901Z",
     "iopub.status.busy": "2024-05-28T07:31:14.695464Z",
     "iopub.status.idle": "2024-05-28T07:31:14.724098Z",
     "shell.execute_reply": "2024-05-28T07:31:14.722889Z"
    },
    "papermill": {
     "duration": 0.046685,
     "end_time": "2024-05-28T07:31:14.726635",
     "exception": false,
     "start_time": "2024-05-28T07:31:14.679950",
     "status": "completed"
    },
    "tags": []
   },
   "outputs": [
    {
     "data": {
      "text/plain": [
       "ID                     701\n",
       "RecipeNumber           100\n",
       "RecipeCode             100\n",
       "RecipeName             100\n",
       "CommentID            13636\n",
       "UserID               10783\n",
       "UserName             10620\n",
       "UserReputation          20\n",
       "CreationTimestamp     2422\n",
       "ReplyCount               4\n",
       "ThumbsUpCount           57\n",
       "ThumbsDownCount         51\n",
       "Rating                   6\n",
       "BestScore              525\n",
       "Recipe_Review        13370\n",
       "dtype: int64"
      ]
     },
     "execution_count": 7,
     "metadata": {},
     "output_type": "execute_result"
    }
   ],
   "source": [
    "# Unique Values of the dataset\n",
    "train_data.nunique()"
   ]
  },
  {
   "cell_type": "code",
   "execution_count": 8,
   "id": "a5e91856",
   "metadata": {
    "execution": {
     "iopub.execute_input": "2024-05-28T07:31:14.757930Z",
     "iopub.status.busy": "2024-05-28T07:31:14.757006Z",
     "iopub.status.idle": "2024-05-28T07:31:14.801526Z",
     "shell.execute_reply": "2024-05-28T07:31:14.800206Z"
    },
    "papermill": {
     "duration": 0.063038,
     "end_time": "2024-05-28T07:31:14.804134",
     "exception": false,
     "start_time": "2024-05-28T07:31:14.741096",
     "status": "completed"
    },
    "tags": []
   },
   "outputs": [
    {
     "data": {
      "text/html": [
       "<div>\n",
       "<style scoped>\n",
       "    .dataframe tbody tr th:only-of-type {\n",
       "        vertical-align: middle;\n",
       "    }\n",
       "\n",
       "    .dataframe tbody tr th {\n",
       "        vertical-align: top;\n",
       "    }\n",
       "\n",
       "    .dataframe thead th {\n",
       "        text-align: right;\n",
       "    }\n",
       "</style>\n",
       "<table border=\"1\" class=\"dataframe\">\n",
       "  <thead>\n",
       "    <tr style=\"text-align: right;\">\n",
       "      <th></th>\n",
       "      <th>ID</th>\n",
       "      <th>RecipeNumber</th>\n",
       "      <th>RecipeCode</th>\n",
       "      <th>UserReputation</th>\n",
       "      <th>CreationTimestamp</th>\n",
       "      <th>ReplyCount</th>\n",
       "      <th>ThumbsUpCount</th>\n",
       "      <th>ThumbsDownCount</th>\n",
       "      <th>Rating</th>\n",
       "      <th>BestScore</th>\n",
       "    </tr>\n",
       "  </thead>\n",
       "  <tbody>\n",
       "    <tr>\n",
       "      <th>count</th>\n",
       "      <td>13636.000000</td>\n",
       "      <td>13636.000000</td>\n",
       "      <td>13636.000000</td>\n",
       "      <td>13636.000000</td>\n",
       "      <td>1.363600e+04</td>\n",
       "      <td>13636.000000</td>\n",
       "      <td>13636.000000</td>\n",
       "      <td>13636.000000</td>\n",
       "      <td>13636.000000</td>\n",
       "      <td>13636.000000</td>\n",
       "    </tr>\n",
       "    <tr>\n",
       "      <th>mean</th>\n",
       "      <td>121.085289</td>\n",
       "      <td>38.624377</td>\n",
       "      <td>21785.990833</td>\n",
       "      <td>2.160311</td>\n",
       "      <td>1.623713e+09</td>\n",
       "      <td>0.014520</td>\n",
       "      <td>1.098269</td>\n",
       "      <td>0.543708</td>\n",
       "      <td>4.288721</td>\n",
       "      <td>153.127897</td>\n",
       "    </tr>\n",
       "    <tr>\n",
       "      <th>std</th>\n",
       "      <td>116.995633</td>\n",
       "      <td>29.672351</td>\n",
       "      <td>23883.189918</td>\n",
       "      <td>10.086424</td>\n",
       "      <td>5.444020e+06</td>\n",
       "      <td>0.137323</td>\n",
       "      <td>4.166487</td>\n",
       "      <td>3.265660</td>\n",
       "      <td>1.544839</td>\n",
       "      <td>140.986908</td>\n",
       "    </tr>\n",
       "    <tr>\n",
       "      <th>min</th>\n",
       "      <td>0.000000</td>\n",
       "      <td>1.000000</td>\n",
       "      <td>386.000000</td>\n",
       "      <td>0.000000</td>\n",
       "      <td>1.613035e+09</td>\n",
       "      <td>0.000000</td>\n",
       "      <td>0.000000</td>\n",
       "      <td>0.000000</td>\n",
       "      <td>0.000000</td>\n",
       "      <td>0.000000</td>\n",
       "    </tr>\n",
       "    <tr>\n",
       "      <th>25%</th>\n",
       "      <td>45.000000</td>\n",
       "      <td>12.000000</td>\n",
       "      <td>6504.000000</td>\n",
       "      <td>1.000000</td>\n",
       "      <td>1.622717e+09</td>\n",
       "      <td>0.000000</td>\n",
       "      <td>0.000000</td>\n",
       "      <td>0.000000</td>\n",
       "      <td>5.000000</td>\n",
       "      <td>100.000000</td>\n",
       "    </tr>\n",
       "    <tr>\n",
       "      <th>50%</th>\n",
       "      <td>91.000000</td>\n",
       "      <td>33.000000</td>\n",
       "      <td>14600.000000</td>\n",
       "      <td>1.000000</td>\n",
       "      <td>1.622718e+09</td>\n",
       "      <td>0.000000</td>\n",
       "      <td>0.000000</td>\n",
       "      <td>0.000000</td>\n",
       "      <td>5.000000</td>\n",
       "      <td>100.000000</td>\n",
       "    </tr>\n",
       "    <tr>\n",
       "      <th>75%</th>\n",
       "      <td>148.000000</td>\n",
       "      <td>63.000000</td>\n",
       "      <td>33121.000000</td>\n",
       "      <td>1.000000</td>\n",
       "      <td>1.622718e+09</td>\n",
       "      <td>0.000000</td>\n",
       "      <td>0.000000</td>\n",
       "      <td>0.000000</td>\n",
       "      <td>5.000000</td>\n",
       "      <td>100.000000</td>\n",
       "    </tr>\n",
       "    <tr>\n",
       "      <th>max</th>\n",
       "      <td>724.000000</td>\n",
       "      <td>100.000000</td>\n",
       "      <td>191775.000000</td>\n",
       "      <td>510.000000</td>\n",
       "      <td>1.665756e+09</td>\n",
       "      <td>3.000000</td>\n",
       "      <td>80.000000</td>\n",
       "      <td>126.000000</td>\n",
       "      <td>5.000000</td>\n",
       "      <td>946.000000</td>\n",
       "    </tr>\n",
       "  </tbody>\n",
       "</table>\n",
       "</div>"
      ],
      "text/plain": [
       "                 ID  RecipeNumber     RecipeCode  UserReputation  \\\n",
       "count  13636.000000  13636.000000   13636.000000    13636.000000   \n",
       "mean     121.085289     38.624377   21785.990833        2.160311   \n",
       "std      116.995633     29.672351   23883.189918       10.086424   \n",
       "min        0.000000      1.000000     386.000000        0.000000   \n",
       "25%       45.000000     12.000000    6504.000000        1.000000   \n",
       "50%       91.000000     33.000000   14600.000000        1.000000   \n",
       "75%      148.000000     63.000000   33121.000000        1.000000   \n",
       "max      724.000000    100.000000  191775.000000      510.000000   \n",
       "\n",
       "       CreationTimestamp    ReplyCount  ThumbsUpCount  ThumbsDownCount  \\\n",
       "count       1.363600e+04  13636.000000   13636.000000     13636.000000   \n",
       "mean        1.623713e+09      0.014520       1.098269         0.543708   \n",
       "std         5.444020e+06      0.137323       4.166487         3.265660   \n",
       "min         1.613035e+09      0.000000       0.000000         0.000000   \n",
       "25%         1.622717e+09      0.000000       0.000000         0.000000   \n",
       "50%         1.622718e+09      0.000000       0.000000         0.000000   \n",
       "75%         1.622718e+09      0.000000       0.000000         0.000000   \n",
       "max         1.665756e+09      3.000000      80.000000       126.000000   \n",
       "\n",
       "             Rating     BestScore  \n",
       "count  13636.000000  13636.000000  \n",
       "mean       4.288721    153.127897  \n",
       "std        1.544839    140.986908  \n",
       "min        0.000000      0.000000  \n",
       "25%        5.000000    100.000000  \n",
       "50%        5.000000    100.000000  \n",
       "75%        5.000000    100.000000  \n",
       "max        5.000000    946.000000  "
      ]
     },
     "execution_count": 8,
     "metadata": {},
     "output_type": "execute_result"
    }
   ],
   "source": [
    "train_data.describe()"
   ]
  },
  {
   "cell_type": "code",
   "execution_count": 9,
   "id": "1608946b",
   "metadata": {
    "execution": {
     "iopub.execute_input": "2024-05-28T07:31:14.837896Z",
     "iopub.status.busy": "2024-05-28T07:31:14.837496Z",
     "iopub.status.idle": "2024-05-28T07:31:16.977462Z",
     "shell.execute_reply": "2024-05-28T07:31:16.976344Z"
    },
    "papermill": {
     "duration": 2.160561,
     "end_time": "2024-05-28T07:31:16.980414",
     "exception": false,
     "start_time": "2024-05-28T07:31:14.819853",
     "status": "completed"
    },
    "tags": []
   },
   "outputs": [
    {
     "data": {
      "image/png": "[encoded data removed]",
      "text/plain": [
       "<Figure size 1000x800 with 2 Axes>"
      ]
     },
     "metadata": {},
     "output_type": "display_data"
    }
   ],
   "source": [
    "import seaborn as sns\n",
    "import matplotlib.pyplot as plt\n",
    "\n",
    "plt.figure(figsize=(10, 8))\n",
    "sns.heatmap(train_data.select_dtypes(exclude=['object']).corr(), annot=True, fmt='.2f') \n",
    "\n",
    "plt.show()"
   ]
  },
  {
   "cell_type": "markdown",
   "id": "3c0e1a2b",
   "metadata": {
    "papermill": {
     "duration": 0.016367,
     "end_time": "2024-05-28T07:31:17.013463",
     "exception": false,
     "start_time": "2024-05-28T07:31:16.997096",
     "status": "completed"
    },
    "tags": []
   },
   "source": [
    "### * No correlation was found among the features initially.\n",
    "### * However, in later stages, a correlation was discovered between the review feature.\n"
   ]
  },
  {
   "cell_type": "code",
   "execution_count": 10,
   "id": "0f996b81",
   "metadata": {
    "execution": {
     "iopub.execute_input": "2024-05-28T07:31:17.048181Z",
     "iopub.status.busy": "2024-05-28T07:31:17.047782Z",
     "iopub.status.idle": "2024-05-28T07:31:19.583460Z",
     "shell.execute_reply": "2024-05-28T07:31:19.582098Z"
    },
    "papermill": {
     "duration": 2.556837,
     "end_time": "2024-05-28T07:31:19.586573",
     "exception": false,
     "start_time": "2024-05-28T07:31:17.029736",
     "status": "completed"
    },
    "tags": []
   },
   "outputs": [
    {
     "data": {
      "text/plain": [
       "array([[<Axes: title={'center': 'ID'}>,\n",
       "        <Axes: title={'center': 'RecipeNumber'}>,\n",
       "        <Axes: title={'center': 'RecipeCode'}>],\n",
       "       [<Axes: title={'center': 'UserReputation'}>,\n",
       "        <Axes: title={'center': 'CreationTimestamp'}>,\n",
       "        <Axes: title={'center': 'ReplyCount'}>],\n",
       "       [<Axes: title={'center': 'ThumbsUpCount'}>,\n",
       "        <Axes: title={'center': 'ThumbsDownCount'}>,\n",
       "        <Axes: title={'center': 'Rating'}>],\n",
       "       [<Axes: title={'center': 'BestScore'}>, <Axes: >, <Axes: >]],\n",
       "      dtype=object)"
      ]
     },
     "execution_count": 10,
     "metadata": {},
     "output_type": "execute_result"
    },
    {
     "data": {
      "image/png": "[encoded data removed]",
      "text/plain": [
       "<Figure size 1500x1500 with 12 Axes>"
      ]
     },
     "metadata": {},
     "output_type": "display_data"
    }
   ],
   "source": [
    "train_data.hist(bins=20, figsize=(15, 15), color='skyblue', edgecolor='black', grid=True, sharex=False, sharey=False)\n"
   ]
  },
  {
   "cell_type": "code",
   "execution_count": 11,
   "id": "e0c44d02",
   "metadata": {
    "execution": {
     "iopub.execute_input": "2024-05-28T07:31:19.625776Z",
     "iopub.status.busy": "2024-05-28T07:31:19.625378Z",
     "iopub.status.idle": "2024-05-28T07:31:24.596082Z",
     "shell.execute_reply": "2024-05-28T07:31:24.594803Z"
    },
    "papermill": {
     "duration": 4.994182,
     "end_time": "2024-05-28T07:31:24.599547",
     "exception": false,
     "start_time": "2024-05-28T07:31:19.605365",
     "status": "completed"
    },
    "tags": []
   },
   "outputs": [
    {
     "data": {
      "image/png": "[encoded data removed]",
      "text/plain": [
       "<Figure size 1000x1000 with 20 Axes>"
      ]
     },
     "metadata": {},
     "output_type": "display_data"
    }
   ],
   "source": [
    "sns.pairplot(train_data[['Rating', 'ThumbsUpCount', 'ThumbsDownCount', 'ReplyCount']])\n",
    "plt.title('Pairplot of Numerical Features')\n",
    "plt.show()\n"
   ]
  },
  {
   "cell_type": "markdown",
   "id": "4e57daa8",
   "metadata": {
    "papermill": {
     "duration": 0.020887,
     "end_time": "2024-05-28T07:31:24.641314",
     "exception": false,
     "start_time": "2024-05-28T07:31:24.620427",
     "status": "completed"
    },
    "tags": []
   },
   "source": [
    "#### **✌️ <u>Correctly identify the feature types.**</u>\n"
   ]
  },
  {
   "cell_type": "code",
   "execution_count": 12,
   "id": "1832b642",
   "metadata": {
    "execution": {
     "iopub.execute_input": "2024-05-28T07:31:24.684122Z",
     "iopub.status.busy": "2024-05-28T07:31:24.683683Z",
     "iopub.status.idle": "2024-05-28T07:31:24.700133Z",
     "shell.execute_reply": "2024-05-28T07:31:24.699006Z"
    },
    "papermill": {
     "duration": 0.04071,
     "end_time": "2024-05-28T07:31:24.702435",
     "exception": false,
     "start_time": "2024-05-28T07:31:24.661725",
     "status": "completed"
    },
    "tags": []
   },
   "outputs": [
    {
     "data": {
      "text/html": [
       "<div>\n",
       "<style scoped>\n",
       "    .dataframe tbody tr th:only-of-type {\n",
       "        vertical-align: middle;\n",
       "    }\n",
       "\n",
       "    .dataframe tbody tr th {\n",
       "        vertical-align: top;\n",
       "    }\n",
       "\n",
       "    .dataframe thead th {\n",
       "        text-align: right;\n",
       "    }\n",
       "</style>\n",
       "<table border=\"1\" class=\"dataframe\">\n",
       "  <thead>\n",
       "    <tr style=\"text-align: right;\">\n",
       "      <th></th>\n",
       "      <th>RecipeName</th>\n",
       "      <th>CommentID</th>\n",
       "      <th>UserID</th>\n",
       "      <th>UserName</th>\n",
       "      <th>Recipe_Review</th>\n",
       "    </tr>\n",
       "  </thead>\n",
       "  <tbody>\n",
       "    <tr>\n",
       "      <th>0</th>\n",
       "      <td>Banana Bars with Cream Cheese Frosting</td>\n",
       "      <td>sp_aUSaElGf_12259_c_149978</td>\n",
       "      <td>u_1oKVaBmiEKwAFyiHrDLoWpbel0J</td>\n",
       "      <td>misscoffeepot</td>\n",
       "      <td>great recipe! I have made them just as written...</td>\n",
       "    </tr>\n",
       "    <tr>\n",
       "      <th>1</th>\n",
       "      <td>Simple Taco Soup</td>\n",
       "      <td>sp_aUSaElGf_8202_c_310332</td>\n",
       "      <td>u_1oKZeRIXYzGNhGW8OMR3O4lX1ih</td>\n",
       "      <td>MichelleMalone</td>\n",
       "      <td>This is an easy and quick recipe that is great...</td>\n",
       "    </tr>\n",
       "    <tr>\n",
       "      <th>2</th>\n",
       "      <td>Cheeseburger Soup</td>\n",
       "      <td>sp_aUSaElGf_2832_c_206522</td>\n",
       "      <td>u_1oKYHUtdaD48KJCDYq5wfpAUxWz</td>\n",
       "      <td>jeannem32</td>\n",
       "      <td>I think I was looking for something extra spec...</td>\n",
       "    </tr>\n",
       "    <tr>\n",
       "      <th>3</th>\n",
       "      <td>Grilled Huli Huli Chicken</td>\n",
       "      <td>sp_aUSaElGf_100276_c_434088</td>\n",
       "      <td>u_1oKZCQcKQZdQhDVBS7oISc216VA</td>\n",
       "      <td>ds422</td>\n",
       "      <td>This is our favorite grilled chicken recipe.  ...</td>\n",
       "    </tr>\n",
       "    <tr>\n",
       "      <th>4</th>\n",
       "      <td>Cauliflower Soup</td>\n",
       "      <td>sp_aUSaElGf_19731_c_387011</td>\n",
       "      <td>u_1oKd4sudZQPgu6YALiC7bW7mKMs</td>\n",
       "      <td>SusanHoward</td>\n",
       "      <td>Great basic recipe. I added 2 teaspoons Tuscan...</td>\n",
       "    </tr>\n",
       "    <tr>\n",
       "      <th>...</th>\n",
       "      <td>...</td>\n",
       "      <td>...</td>\n",
       "      <td>...</td>\n",
       "      <td>...</td>\n",
       "      <td>...</td>\n",
       "    </tr>\n",
       "    <tr>\n",
       "      <th>13631</th>\n",
       "      <td>Quick Cream of Mushroom Soup</td>\n",
       "      <td>sp_aUSaElGf_11767_c_127710</td>\n",
       "      <td>u_1oKVbHjirkAIWwTjbt9dWyqENo2</td>\n",
       "      <td>elbay</td>\n",
       "      <td>Delicious!! Very easy to make! One minor chang...</td>\n",
       "    </tr>\n",
       "    <tr>\n",
       "      <th>13632</th>\n",
       "      <td>Favorite Chicken Potpie</td>\n",
       "      <td>sp_aUSaElGf_21444_c_196030</td>\n",
       "      <td>u_1oKXoBnyJ2ocquNYwAhs19LMSrA</td>\n",
       "      <td>PauletteInhofe</td>\n",
       "      <td>I made this pie for my family and they loved i...</td>\n",
       "    </tr>\n",
       "    <tr>\n",
       "      <th>13633</th>\n",
       "      <td>Taco Lasagna</td>\n",
       "      <td>sp_aUSaElGf_20170_c_359338</td>\n",
       "      <td>u_1oKbGr5o9tj0mQl1rkVqzWnE481</td>\n",
       "      <td>Barbaralarkin</td>\n",
       "      <td>Very tasty!</td>\n",
       "    </tr>\n",
       "    <tr>\n",
       "      <th>13634</th>\n",
       "      <td>Chicken and Dumplings</td>\n",
       "      <td>sp_aUSaElGf_24886_c_175514</td>\n",
       "      <td>u_1oKWD7Dqjmc0oYHdW8Vm3fzhxJW</td>\n",
       "      <td>SammyPrissy</td>\n",
       "      <td>I have made this numerous times.  It&amp;#39;s so ...</td>\n",
       "    </tr>\n",
       "    <tr>\n",
       "      <th>13635</th>\n",
       "      <td>Cheeseburger Soup</td>\n",
       "      <td>sp_aUSaElGf_2832_c_278956</td>\n",
       "      <td>u_1oKYPsERQ0GvUcjIsuAxzmnsQGW</td>\n",
       "      <td>morgantowndan</td>\n",
       "      <td>Super. I added 1/2 lb chopped bacon to mine. H...</td>\n",
       "    </tr>\n",
       "  </tbody>\n",
       "</table>\n",
       "<p>13636 rows × 5 columns</p>\n",
       "</div>"
      ],
      "text/plain": [
       "                                   RecipeName                    CommentID  \\\n",
       "0      Banana Bars with Cream Cheese Frosting   sp_aUSaElGf_12259_c_149978   \n",
       "1                            Simple Taco Soup    sp_aUSaElGf_8202_c_310332   \n",
       "2                           Cheeseburger Soup    sp_aUSaElGf_2832_c_206522   \n",
       "3                   Grilled Huli Huli Chicken  sp_aUSaElGf_100276_c_434088   \n",
       "4                            Cauliflower Soup   sp_aUSaElGf_19731_c_387011   \n",
       "...                                       ...                          ...   \n",
       "13631            Quick Cream of Mushroom Soup   sp_aUSaElGf_11767_c_127710   \n",
       "13632                 Favorite Chicken Potpie   sp_aUSaElGf_21444_c_196030   \n",
       "13633                            Taco Lasagna   sp_aUSaElGf_20170_c_359338   \n",
       "13634                   Chicken and Dumplings   sp_aUSaElGf_24886_c_175514   \n",
       "13635                       Cheeseburger Soup    sp_aUSaElGf_2832_c_278956   \n",
       "\n",
       "                              UserID        UserName  \\\n",
       "0      u_1oKVaBmiEKwAFyiHrDLoWpbel0J   misscoffeepot   \n",
       "1      u_1oKZeRIXYzGNhGW8OMR3O4lX1ih  MichelleMalone   \n",
       "2      u_1oKYHUtdaD48KJCDYq5wfpAUxWz       jeannem32   \n",
       "3      u_1oKZCQcKQZdQhDVBS7oISc216VA           ds422   \n",
       "4      u_1oKd4sudZQPgu6YALiC7bW7mKMs     SusanHoward   \n",
       "...                              ...             ...   \n",
       "13631  u_1oKVbHjirkAIWwTjbt9dWyqENo2           elbay   \n",
       "13632  u_1oKXoBnyJ2ocquNYwAhs19LMSrA  PauletteInhofe   \n",
       "13633  u_1oKbGr5o9tj0mQl1rkVqzWnE481   Barbaralarkin   \n",
       "13634  u_1oKWD7Dqjmc0oYHdW8Vm3fzhxJW     SammyPrissy   \n",
       "13635  u_1oKYPsERQ0GvUcjIsuAxzmnsQGW   morgantowndan   \n",
       "\n",
       "                                           Recipe_Review  \n",
       "0      great recipe! I have made them just as written...  \n",
       "1      This is an easy and quick recipe that is great...  \n",
       "2      I think I was looking for something extra spec...  \n",
       "3      This is our favorite grilled chicken recipe.  ...  \n",
       "4      Great basic recipe. I added 2 teaspoons Tuscan...  \n",
       "...                                                  ...  \n",
       "13631  Delicious!! Very easy to make! One minor chang...  \n",
       "13632  I made this pie for my family and they loved i...  \n",
       "13633                                        Very tasty!  \n",
       "13634  I have made this numerous times.  It&#39;s so ...  \n",
       "13635  Super. I added 1/2 lb chopped bacon to mine. H...  \n",
       "\n",
       "[13636 rows x 5 columns]"
      ]
     },
     "execution_count": 12,
     "metadata": {},
     "output_type": "execute_result"
    }
   ],
   "source": [
    "# checking categorical columns\n",
    "categorical_columns = train_data.select_dtypes(include=['object'])\n",
    "categorical_columns"
   ]
  },
  {
   "cell_type": "markdown",
   "id": "2be921c3",
   "metadata": {
    "papermill": {
     "duration": 0.020563,
     "end_time": "2024-05-28T07:31:24.743873",
     "exception": false,
     "start_time": "2024-05-28T07:31:24.723310",
     "status": "completed"
    },
    "tags": []
   },
   "source": [
    "## Feature Description:\n",
    "\n",
    "- RecipeName: Name of the recipe the comment was posted on\n",
    "- CommentID: Unique ID of the comment\n",
    "- UserID: Unique ID of the user who left the comment\n",
    "- UserName: Name of the user\n",
    "- Recipe_Review: Text content of the comment"
   ]
  },
  {
   "cell_type": "code",
   "execution_count": 13,
   "id": "06c56f89",
   "metadata": {
    "execution": {
     "iopub.execute_input": "2024-05-28T07:31:24.788883Z",
     "iopub.status.busy": "2024-05-28T07:31:24.787615Z",
     "iopub.status.idle": "2024-05-28T07:31:24.805077Z",
     "shell.execute_reply": "2024-05-28T07:31:24.803608Z"
    },
    "papermill": {
     "duration": 0.042658,
     "end_time": "2024-05-28T07:31:24.807775",
     "exception": false,
     "start_time": "2024-05-28T07:31:24.765117",
     "status": "completed"
    },
    "tags": []
   },
   "outputs": [
    {
     "data": {
      "text/html": [
       "<div>\n",
       "<style scoped>\n",
       "    .dataframe tbody tr th:only-of-type {\n",
       "        vertical-align: middle;\n",
       "    }\n",
       "\n",
       "    .dataframe tbody tr th {\n",
       "        vertical-align: top;\n",
       "    }\n",
       "\n",
       "    .dataframe thead th {\n",
       "        text-align: right;\n",
       "    }\n",
       "</style>\n",
       "<table border=\"1\" class=\"dataframe\">\n",
       "  <thead>\n",
       "    <tr style=\"text-align: right;\">\n",
       "      <th></th>\n",
       "      <th>ID</th>\n",
       "      <th>RecipeNumber</th>\n",
       "      <th>RecipeCode</th>\n",
       "      <th>UserReputation</th>\n",
       "      <th>CreationTimestamp</th>\n",
       "      <th>ReplyCount</th>\n",
       "      <th>ThumbsUpCount</th>\n",
       "      <th>ThumbsDownCount</th>\n",
       "      <th>Rating</th>\n",
       "      <th>BestScore</th>\n",
       "    </tr>\n",
       "  </thead>\n",
       "  <tbody>\n",
       "    <tr>\n",
       "      <th>0</th>\n",
       "      <td>70</td>\n",
       "      <td>71</td>\n",
       "      <td>12259</td>\n",
       "      <td>20</td>\n",
       "      <td>1622717078</td>\n",
       "      <td>0</td>\n",
       "      <td>0</td>\n",
       "      <td>0</td>\n",
       "      <td>5</td>\n",
       "      <td>100</td>\n",
       "    </tr>\n",
       "    <tr>\n",
       "      <th>1</th>\n",
       "      <td>72</td>\n",
       "      <td>88</td>\n",
       "      <td>8202</td>\n",
       "      <td>1</td>\n",
       "      <td>1622717852</td>\n",
       "      <td>0</td>\n",
       "      <td>0</td>\n",
       "      <td>1</td>\n",
       "      <td>5</td>\n",
       "      <td>100</td>\n",
       "    </tr>\n",
       "    <tr>\n",
       "      <th>2</th>\n",
       "      <td>458</td>\n",
       "      <td>3</td>\n",
       "      <td>2832</td>\n",
       "      <td>1</td>\n",
       "      <td>1622717357</td>\n",
       "      <td>0</td>\n",
       "      <td>0</td>\n",
       "      <td>0</td>\n",
       "      <td>3</td>\n",
       "      <td>100</td>\n",
       "    </tr>\n",
       "    <tr>\n",
       "      <th>3</th>\n",
       "      <td>7</td>\n",
       "      <td>50</td>\n",
       "      <td>100276</td>\n",
       "      <td>1</td>\n",
       "      <td>1622648899</td>\n",
       "      <td>0</td>\n",
       "      <td>0</td>\n",
       "      <td>0</td>\n",
       "      <td>5</td>\n",
       "      <td>100</td>\n",
       "    </tr>\n",
       "    <tr>\n",
       "      <th>4</th>\n",
       "      <td>60</td>\n",
       "      <td>12</td>\n",
       "      <td>19731</td>\n",
       "      <td>1</td>\n",
       "      <td>1622718260</td>\n",
       "      <td>0</td>\n",
       "      <td>0</td>\n",
       "      <td>0</td>\n",
       "      <td>4</td>\n",
       "      <td>100</td>\n",
       "    </tr>\n",
       "    <tr>\n",
       "      <th>...</th>\n",
       "      <td>...</td>\n",
       "      <td>...</td>\n",
       "      <td>...</td>\n",
       "      <td>...</td>\n",
       "      <td>...</td>\n",
       "      <td>...</td>\n",
       "      <td>...</td>\n",
       "      <td>...</td>\n",
       "      <td>...</td>\n",
       "      <td>...</td>\n",
       "    </tr>\n",
       "    <tr>\n",
       "      <th>13631</th>\n",
       "      <td>115</td>\n",
       "      <td>98</td>\n",
       "      <td>11767</td>\n",
       "      <td>1</td>\n",
       "      <td>1622716969</td>\n",
       "      <td>0</td>\n",
       "      <td>0</td>\n",
       "      <td>0</td>\n",
       "      <td>5</td>\n",
       "      <td>100</td>\n",
       "    </tr>\n",
       "    <tr>\n",
       "      <th>13632</th>\n",
       "      <td>372</td>\n",
       "      <td>6</td>\n",
       "      <td>21444</td>\n",
       "      <td>1</td>\n",
       "      <td>1622717329</td>\n",
       "      <td>0</td>\n",
       "      <td>0</td>\n",
       "      <td>0</td>\n",
       "      <td>5</td>\n",
       "      <td>100</td>\n",
       "    </tr>\n",
       "    <tr>\n",
       "      <th>13633</th>\n",
       "      <td>87</td>\n",
       "      <td>37</td>\n",
       "      <td>20170</td>\n",
       "      <td>1</td>\n",
       "      <td>1622718089</td>\n",
       "      <td>0</td>\n",
       "      <td>0</td>\n",
       "      <td>0</td>\n",
       "      <td>5</td>\n",
       "      <td>100</td>\n",
       "    </tr>\n",
       "    <tr>\n",
       "      <th>13634</th>\n",
       "      <td>48</td>\n",
       "      <td>63</td>\n",
       "      <td>24886</td>\n",
       "      <td>1</td>\n",
       "      <td>1622717192</td>\n",
       "      <td>0</td>\n",
       "      <td>0</td>\n",
       "      <td>0</td>\n",
       "      <td>5</td>\n",
       "      <td>100</td>\n",
       "    </tr>\n",
       "    <tr>\n",
       "      <th>13635</th>\n",
       "      <td>379</td>\n",
       "      <td>3</td>\n",
       "      <td>2832</td>\n",
       "      <td>1</td>\n",
       "      <td>1622717703</td>\n",
       "      <td>0</td>\n",
       "      <td>0</td>\n",
       "      <td>0</td>\n",
       "      <td>5</td>\n",
       "      <td>100</td>\n",
       "    </tr>\n",
       "  </tbody>\n",
       "</table>\n",
       "<p>13636 rows × 10 columns</p>\n",
       "</div>"
      ],
      "text/plain": [
       "        ID  RecipeNumber  RecipeCode  UserReputation  CreationTimestamp  \\\n",
       "0       70            71       12259              20         1622717078   \n",
       "1       72            88        8202               1         1622717852   \n",
       "2      458             3        2832               1         1622717357   \n",
       "3        7            50      100276               1         1622648899   \n",
       "4       60            12       19731               1         1622718260   \n",
       "...    ...           ...         ...             ...                ...   \n",
       "13631  115            98       11767               1         1622716969   \n",
       "13632  372             6       21444               1         1622717329   \n",
       "13633   87            37       20170               1         1622718089   \n",
       "13634   48            63       24886               1         1622717192   \n",
       "13635  379             3        2832               1         1622717703   \n",
       "\n",
       "       ReplyCount  ThumbsUpCount  ThumbsDownCount  Rating  BestScore  \n",
       "0               0              0                0       5        100  \n",
       "1               0              0                1       5        100  \n",
       "2               0              0                0       3        100  \n",
       "3               0              0                0       5        100  \n",
       "4               0              0                0       4        100  \n",
       "...           ...            ...              ...     ...        ...  \n",
       "13631           0              0                0       5        100  \n",
       "13632           0              0                0       5        100  \n",
       "13633           0              0                0       5        100  \n",
       "13634           0              0                0       5        100  \n",
       "13635           0              0                0       5        100  \n",
       "\n",
       "[13636 rows x 10 columns]"
      ]
     },
     "execution_count": 13,
     "metadata": {},
     "output_type": "execute_result"
    }
   ],
   "source": [
    "# checking numerical columns\n",
    "numerical_columns = train_data.select_dtypes(exclude=['object'])\n",
    "numerical_columns"
   ]
  },
  {
   "cell_type": "code",
   "execution_count": 14,
   "id": "9921c3bc",
   "metadata": {
    "execution": {
     "iopub.execute_input": "2024-05-28T07:31:24.853437Z",
     "iopub.status.busy": "2024-05-28T07:31:24.853028Z",
     "iopub.status.idle": "2024-05-28T07:31:24.862573Z",
     "shell.execute_reply": "2024-05-28T07:31:24.861245Z"
    },
    "papermill": {
     "duration": 0.035404,
     "end_time": "2024-05-28T07:31:24.864873",
     "exception": false,
     "start_time": "2024-05-28T07:31:24.829469",
     "status": "completed"
    },
    "tags": []
   },
   "outputs": [
    {
     "name": "stdout",
     "output_type": "stream",
     "text": [
      "Unique Recipe numbers are  100\n",
      "Unique Recipe code are  100\n",
      "Unique Recipe numbers are  100\n"
     ]
    }
   ],
   "source": [
    "# Comparing RecipeNumber, RecipeCode and RecipeName values.\n",
    "total_RecipeNumber = train_data['RecipeNumber'].nunique()\n",
    "total_RecipeCode = train_data['RecipeCode'].nunique()\n",
    "total_RecipeName = train_data['RecipeName'].nunique()\n",
    "\n",
    "print('Unique Recipe numbers are ',total_RecipeNumber)\n",
    "print('Unique Recipe code are ',total_RecipeCode)\n",
    "print('Unique Recipe numbers are ',total_RecipeNumber)"
   ]
  },
  {
   "cell_type": "code",
   "execution_count": 15,
   "id": "70fbd631",
   "metadata": {
    "execution": {
     "iopub.execute_input": "2024-05-28T07:31:24.910317Z",
     "iopub.status.busy": "2024-05-28T07:31:24.909873Z",
     "iopub.status.idle": "2024-05-28T07:31:24.927648Z",
     "shell.execute_reply": "2024-05-28T07:31:24.926500Z"
    },
    "papermill": {
     "duration": 0.043668,
     "end_time": "2024-05-28T07:31:24.930135",
     "exception": false,
     "start_time": "2024-05-28T07:31:24.886467",
     "status": "completed"
    },
    "tags": []
   },
   "outputs": [
    {
     "data": {
      "text/html": [
       "<div>\n",
       "<style scoped>\n",
       "    .dataframe tbody tr th:only-of-type {\n",
       "        vertical-align: middle;\n",
       "    }\n",
       "\n",
       "    .dataframe tbody tr th {\n",
       "        vertical-align: top;\n",
       "    }\n",
       "\n",
       "    .dataframe thead th {\n",
       "        text-align: right;\n",
       "    }\n",
       "</style>\n",
       "<table border=\"1\" class=\"dataframe\">\n",
       "  <thead>\n",
       "    <tr style=\"text-align: right;\">\n",
       "      <th></th>\n",
       "      <th>ID</th>\n",
       "      <th>RecipeNumber</th>\n",
       "      <th>RecipeCode</th>\n",
       "      <th>RecipeName</th>\n",
       "      <th>CommentID</th>\n",
       "      <th>UserID</th>\n",
       "      <th>UserName</th>\n",
       "      <th>UserReputation</th>\n",
       "      <th>CreationTimestamp</th>\n",
       "      <th>ReplyCount</th>\n",
       "      <th>ThumbsUpCount</th>\n",
       "      <th>ThumbsDownCount</th>\n",
       "      <th>Rating</th>\n",
       "      <th>BestScore</th>\n",
       "      <th>Recipe_Review</th>\n",
       "    </tr>\n",
       "  </thead>\n",
       "  <tbody>\n",
       "    <tr>\n",
       "      <th>0</th>\n",
       "      <td>70</td>\n",
       "      <td>71</td>\n",
       "      <td>12259</td>\n",
       "      <td>Banana Bars with Cream Cheese Frosting</td>\n",
       "      <td>sp_aUSaElGf_12259_c_149978</td>\n",
       "      <td>u_1oKVaBmiEKwAFyiHrDLoWpbel0J</td>\n",
       "      <td>misscoffeepot</td>\n",
       "      <td>20</td>\n",
       "      <td>1622717078</td>\n",
       "      <td>0</td>\n",
       "      <td>0</td>\n",
       "      <td>0</td>\n",
       "      <td>5</td>\n",
       "      <td>100</td>\n",
       "      <td>great recipe! I have made them just as written...</td>\n",
       "    </tr>\n",
       "    <tr>\n",
       "      <th>172</th>\n",
       "      <td>4</td>\n",
       "      <td>71</td>\n",
       "      <td>12259</td>\n",
       "      <td>Banana Bars with Cream Cheese Frosting</td>\n",
       "      <td>sp_aUSaElGf_12259_c_432323</td>\n",
       "      <td>u_1tOHuoHsIKxNgRRS2s1MxNt9jg6</td>\n",
       "      <td>GoldApple</td>\n",
       "      <td>0</td>\n",
       "      <td>1622648873</td>\n",
       "      <td>0</td>\n",
       "      <td>2</td>\n",
       "      <td>2</td>\n",
       "      <td>5</td>\n",
       "      <td>167</td>\n",
       "      <td>Just made these banana bars for Easter. They w...</td>\n",
       "    </tr>\n",
       "    <tr>\n",
       "      <th>617</th>\n",
       "      <td>124</td>\n",
       "      <td>71</td>\n",
       "      <td>12259</td>\n",
       "      <td>Banana Bars with Cream Cheese Frosting</td>\n",
       "      <td>sp_aUSaElGf_12259_c_318162</td>\n",
       "      <td>u_1oKVvQbJjVuvKHTFaOOplRwvy5F</td>\n",
       "      <td>jillgingras</td>\n",
       "      <td>1</td>\n",
       "      <td>1622717934</td>\n",
       "      <td>0</td>\n",
       "      <td>0</td>\n",
       "      <td>0</td>\n",
       "      <td>0</td>\n",
       "      <td>100</td>\n",
       "      <td>This is the best banana bar recipe. It is a fa...</td>\n",
       "    </tr>\n",
       "    <tr>\n",
       "      <th>720</th>\n",
       "      <td>37</td>\n",
       "      <td>71</td>\n",
       "      <td>12259</td>\n",
       "      <td>Banana Bars with Cream Cheese Frosting</td>\n",
       "      <td>sp_aUSaElGf_12259_c_292137</td>\n",
       "      <td>u_1oKVZkwou43a0PL7Aw0NCrDXTLL</td>\n",
       "      <td>Debglass11</td>\n",
       "      <td>30</td>\n",
       "      <td>1622717807</td>\n",
       "      <td>0</td>\n",
       "      <td>0</td>\n",
       "      <td>0</td>\n",
       "      <td>5</td>\n",
       "      <td>100</td>\n",
       "      <td>These are wonderful!  Made exactly as written....</td>\n",
       "    </tr>\n",
       "    <tr>\n",
       "      <th>796</th>\n",
       "      <td>73</td>\n",
       "      <td>71</td>\n",
       "      <td>12259</td>\n",
       "      <td>Banana Bars with Cream Cheese Frosting</td>\n",
       "      <td>sp_aUSaElGf_12259_c_373766</td>\n",
       "      <td>u_1oKVeUN8Xkh7FxowgzAvZdnEl7Y</td>\n",
       "      <td>oeg1kallee</td>\n",
       "      <td>1</td>\n",
       "      <td>1622718153</td>\n",
       "      <td>0</td>\n",
       "      <td>0</td>\n",
       "      <td>0</td>\n",
       "      <td>5</td>\n",
       "      <td>100</td>\n",
       "      <td>wow- I have a new go-to recipe for my ripe ban...</td>\n",
       "    </tr>\n",
       "  </tbody>\n",
       "</table>\n",
       "</div>"
      ],
      "text/plain": [
       "      ID  RecipeNumber  RecipeCode                              RecipeName  \\\n",
       "0     70            71       12259  Banana Bars with Cream Cheese Frosting   \n",
       "172    4            71       12259  Banana Bars with Cream Cheese Frosting   \n",
       "617  124            71       12259  Banana Bars with Cream Cheese Frosting   \n",
       "720   37            71       12259  Banana Bars with Cream Cheese Frosting   \n",
       "796   73            71       12259  Banana Bars with Cream Cheese Frosting   \n",
       "\n",
       "                      CommentID                         UserID       UserName  \\\n",
       "0    sp_aUSaElGf_12259_c_149978  u_1oKVaBmiEKwAFyiHrDLoWpbel0J  misscoffeepot   \n",
       "172  sp_aUSaElGf_12259_c_432323  u_1tOHuoHsIKxNgRRS2s1MxNt9jg6      GoldApple   \n",
       "617  sp_aUSaElGf_12259_c_318162  u_1oKVvQbJjVuvKHTFaOOplRwvy5F    jillgingras   \n",
       "720  sp_aUSaElGf_12259_c_292137  u_1oKVZkwou43a0PL7Aw0NCrDXTLL     Debglass11   \n",
       "796  sp_aUSaElGf_12259_c_373766  u_1oKVeUN8Xkh7FxowgzAvZdnEl7Y     oeg1kallee   \n",
       "\n",
       "     UserReputation  CreationTimestamp  ReplyCount  ThumbsUpCount  \\\n",
       "0                20         1622717078           0              0   \n",
       "172               0         1622648873           0              2   \n",
       "617               1         1622717934           0              0   \n",
       "720              30         1622717807           0              0   \n",
       "796               1         1622718153           0              0   \n",
       "\n",
       "     ThumbsDownCount  Rating  BestScore  \\\n",
       "0                  0       5        100   \n",
       "172                2       5        167   \n",
       "617                0       0        100   \n",
       "720                0       5        100   \n",
       "796                0       5        100   \n",
       "\n",
       "                                         Recipe_Review  \n",
       "0    great recipe! I have made them just as written...  \n",
       "172  Just made these banana bars for Easter. They w...  \n",
       "617  This is the best banana bar recipe. It is a fa...  \n",
       "720  These are wonderful!  Made exactly as written....  \n",
       "796  wow- I have a new go-to recipe for my ripe ban...  "
      ]
     },
     "execution_count": 15,
     "metadata": {},
     "output_type": "execute_result"
    }
   ],
   "source": [
    "train_data[train_data['RecipeNumber']== 71].head()"
   ]
  },
  {
   "cell_type": "markdown",
   "id": "baa1347c",
   "metadata": {
    "papermill": {
     "duration": 0.022175,
     "end_time": "2024-05-28T07:31:24.974219",
     "exception": false,
     "start_time": "2024-05-28T07:31:24.952044",
     "status": "completed"
    },
    "tags": []
   },
   "source": [
    "### <u> **Recipe Analysis** </u>\n",
    "\n",
    "\n",
    "In the dataset, there's a noticeable redundancy in the columns for recipe identification: `RecipeNumber`, `RecipeCode`, and `RecipeName`. Let's take an example:\n",
    "\n",
    "| RecipeNumber | RecipeCode | RecipeName                     |\n",
    "|--------------|------------|--------------------------------|\n",
    "| 71           | 12259      | Banana Bars with Cream Cheese Frosting |\n",
    "\n",
    "<span style=\"font-size: larger;\">\n",
    "Upon inspection, it's evident that the values across these columns are identical. This redundancy can be addressed during preprocessing to enhance the efficiency and cleanliness of the dataset.\n",
    "</span>"
   ]
  },
  {
   "cell_type": "markdown",
   "id": "95301827",
   "metadata": {
    "papermill": {
     "duration": 0.021634,
     "end_time": "2024-05-28T07:31:25.017798",
     "exception": false,
     "start_time": "2024-05-28T07:31:24.996164",
     "status": "completed"
    },
    "tags": []
   },
   "source": [
    "# Detecting missing data and imputation, if required.\n"
   ]
  },
  {
   "cell_type": "code",
   "execution_count": 16,
   "id": "a1bbe7b1",
   "metadata": {
    "execution": {
     "iopub.execute_input": "2024-05-28T07:31:25.064469Z",
     "iopub.status.busy": "2024-05-28T07:31:25.063675Z",
     "iopub.status.idle": "2024-05-28T07:31:25.076213Z",
     "shell.execute_reply": "2024-05-28T07:31:25.074850Z"
    },
    "papermill": {
     "duration": 0.038835,
     "end_time": "2024-05-28T07:31:25.078658",
     "exception": false,
     "start_time": "2024-05-28T07:31:25.039823",
     "status": "completed"
    },
    "tags": []
   },
   "outputs": [
    {
     "name": "stdout",
     "output_type": "stream",
     "text": [
      "ID                   0\n",
      "RecipeNumber         0\n",
      "RecipeCode           0\n",
      "RecipeName           0\n",
      "CommentID            0\n",
      "UserID               0\n",
      "UserName             0\n",
      "UserReputation       0\n",
      "CreationTimestamp    0\n",
      "ReplyCount           0\n",
      "ThumbsUpCount        0\n",
      "ThumbsDownCount      0\n",
      "Rating               0\n",
      "BestScore            0\n",
      "Recipe_Review        2\n",
      "dtype: int64\n"
     ]
    }
   ],
   "source": [
    "# Check for missing values in the entire dataset\n",
    "\n",
    "missing_values = train_data.isnull()\n",
    "print(missing_values.sum())"
   ]
  },
  {
   "cell_type": "markdown",
   "id": "0af528ae",
   "metadata": {
    "papermill": {
     "duration": 0.021946,
     "end_time": "2024-05-28T07:31:25.122437",
     "exception": false,
     "start_time": "2024-05-28T07:31:25.100491",
     "status": "completed"
    },
    "tags": []
   },
   "source": [
    "## There are two Values missing in the Recipe_Review column.\n"
   ]
  },
  {
   "cell_type": "code",
   "execution_count": 17,
   "id": "549e41ec",
   "metadata": {
    "execution": {
     "iopub.execute_input": "2024-05-28T07:31:25.167942Z",
     "iopub.status.busy": "2024-05-28T07:31:25.167555Z",
     "iopub.status.idle": "2024-05-28T07:31:25.184708Z",
     "shell.execute_reply": "2024-05-28T07:31:25.183598Z"
    },
    "papermill": {
     "duration": 0.043066,
     "end_time": "2024-05-28T07:31:25.187096",
     "exception": false,
     "start_time": "2024-05-28T07:31:25.144030",
     "status": "completed"
    },
    "tags": []
   },
   "outputs": [
    {
     "data": {
      "text/html": [
       "<div>\n",
       "<style scoped>\n",
       "    .dataframe tbody tr th:only-of-type {\n",
       "        vertical-align: middle;\n",
       "    }\n",
       "\n",
       "    .dataframe tbody tr th {\n",
       "        vertical-align: top;\n",
       "    }\n",
       "\n",
       "    .dataframe thead th {\n",
       "        text-align: right;\n",
       "    }\n",
       "</style>\n",
       "<table border=\"1\" class=\"dataframe\">\n",
       "  <thead>\n",
       "    <tr style=\"text-align: right;\">\n",
       "      <th></th>\n",
       "      <th>ID</th>\n",
       "      <th>RecipeNumber</th>\n",
       "      <th>RecipeCode</th>\n",
       "      <th>RecipeName</th>\n",
       "      <th>CommentID</th>\n",
       "      <th>UserID</th>\n",
       "      <th>UserName</th>\n",
       "      <th>UserReputation</th>\n",
       "      <th>CreationTimestamp</th>\n",
       "      <th>ReplyCount</th>\n",
       "      <th>ThumbsUpCount</th>\n",
       "      <th>ThumbsDownCount</th>\n",
       "      <th>Rating</th>\n",
       "      <th>BestScore</th>\n",
       "      <th>Recipe_Review</th>\n",
       "    </tr>\n",
       "  </thead>\n",
       "  <tbody>\n",
       "    <tr>\n",
       "      <th>2984</th>\n",
       "      <td>299</td>\n",
       "      <td>6</td>\n",
       "      <td>21444</td>\n",
       "      <td>Favorite Chicken Potpie</td>\n",
       "      <td>sp_aUSaElGf_21444_c_260817</td>\n",
       "      <td>u_1oKXz42APTrXTFF6SGvR3YMBJGy</td>\n",
       "      <td>TRGriggs</td>\n",
       "      <td>1</td>\n",
       "      <td>1622717652</td>\n",
       "      <td>0</td>\n",
       "      <td>0</td>\n",
       "      <td>0</td>\n",
       "      <td>5</td>\n",
       "      <td>100</td>\n",
       "      <td>NaN</td>\n",
       "    </tr>\n",
       "    <tr>\n",
       "      <th>11654</th>\n",
       "      <td>344</td>\n",
       "      <td>3</td>\n",
       "      <td>2832</td>\n",
       "      <td>Cheeseburger Soup</td>\n",
       "      <td>sp_aUSaElGf_2832_c_260955</td>\n",
       "      <td>u_1oKZmfyycO3xVnQeffIKHuaKT2U</td>\n",
       "      <td>No.1FamilyBaker</td>\n",
       "      <td>1</td>\n",
       "      <td>1622717645</td>\n",
       "      <td>0</td>\n",
       "      <td>0</td>\n",
       "      <td>0</td>\n",
       "      <td>5</td>\n",
       "      <td>100</td>\n",
       "      <td>NaN</td>\n",
       "    </tr>\n",
       "  </tbody>\n",
       "</table>\n",
       "</div>"
      ],
      "text/plain": [
       "        ID  RecipeNumber  RecipeCode               RecipeName  \\\n",
       "2984   299             6       21444  Favorite Chicken Potpie   \n",
       "11654  344             3        2832        Cheeseburger Soup   \n",
       "\n",
       "                        CommentID                         UserID  \\\n",
       "2984   sp_aUSaElGf_21444_c_260817  u_1oKXz42APTrXTFF6SGvR3YMBJGy   \n",
       "11654   sp_aUSaElGf_2832_c_260955  u_1oKZmfyycO3xVnQeffIKHuaKT2U   \n",
       "\n",
       "              UserName  UserReputation  CreationTimestamp  ReplyCount  \\\n",
       "2984          TRGriggs               1         1622717652           0   \n",
       "11654  No.1FamilyBaker               1         1622717645           0   \n",
       "\n",
       "       ThumbsUpCount  ThumbsDownCount  Rating  BestScore Recipe_Review  \n",
       "2984               0                0       5        100           NaN  \n",
       "11654              0                0       5        100           NaN  "
      ]
     },
     "execution_count": 17,
     "metadata": {},
     "output_type": "execute_result"
    }
   ],
   "source": [
    "# Samples with missing values with respect to Recipe_Review\n",
    "samples_with_missing_values = train_data[missing_values['Recipe_Review']]\n",
    "\n",
    "samples_with_missing_values"
   ]
  },
  {
   "cell_type": "markdown",
   "id": "2e940aa4",
   "metadata": {
    "papermill": {
     "duration": 0.022879,
     "end_time": "2024-05-28T07:31:25.232861",
     "exception": false,
     "start_time": "2024-05-28T07:31:25.209982",
     "status": "completed"
    },
    "tags": []
   },
   "source": [
    "---\n",
    "#### There are two `Recipe_Review` values missing\n",
    "#### It is very clear from Review was great because of the Rating is 5, then we can impute the value with 'Great Food'."
   ]
  },
  {
   "cell_type": "markdown",
   "id": "045bd909",
   "metadata": {
    "papermill": {
     "duration": 0.021587,
     "end_time": "2024-05-28T07:31:25.276798",
     "exception": false,
     "start_time": "2024-05-28T07:31:25.255211",
     "status": "completed"
    },
    "tags": []
   },
   "source": [
    "### Imputing Missing Values"
   ]
  },
  {
   "cell_type": "code",
   "execution_count": 18,
   "id": "afc8166a",
   "metadata": {
    "execution": {
     "iopub.execute_input": "2024-05-28T07:31:25.322131Z",
     "iopub.status.busy": "2024-05-28T07:31:25.321708Z",
     "iopub.status.idle": "2024-05-28T07:31:25.328377Z",
     "shell.execute_reply": "2024-05-28T07:31:25.327305Z"
    },
    "papermill": {
     "duration": 0.032259,
     "end_time": "2024-05-28T07:31:25.330712",
     "exception": false,
     "start_time": "2024-05-28T07:31:25.298453",
     "status": "completed"
    },
    "tags": []
   },
   "outputs": [],
   "source": [
    "train_data.loc[[2984,11654],'Recipe_Review'] = 'Very tasty!'"
   ]
  },
  {
   "cell_type": "code",
   "execution_count": 19,
   "id": "a4fcde42",
   "metadata": {
    "execution": {
     "iopub.execute_input": "2024-05-28T07:31:25.377174Z",
     "iopub.status.busy": "2024-05-28T07:31:25.376227Z",
     "iopub.status.idle": "2024-05-28T07:31:25.386391Z",
     "shell.execute_reply": "2024-05-28T07:31:25.385278Z"
    },
    "papermill": {
     "duration": 0.035446,
     "end_time": "2024-05-28T07:31:25.388526",
     "exception": false,
     "start_time": "2024-05-28T07:31:25.353080",
     "status": "completed"
    },
    "tags": []
   },
   "outputs": [
    {
     "data": {
      "text/plain": [
       "ID                   0\n",
       "RecipeNumber         0\n",
       "RecipeCode           0\n",
       "RecipeName           0\n",
       "CommentID            0\n",
       "UserID               0\n",
       "UserName             0\n",
       "UserReputation       0\n",
       "CreationTimestamp    0\n",
       "ReplyCount           0\n",
       "ThumbsUpCount        0\n",
       "ThumbsDownCount      0\n",
       "BestScore            0\n",
       "Recipe_Review        0\n",
       "dtype: int64"
      ]
     },
     "execution_count": 19,
     "metadata": {},
     "output_type": "execute_result"
    }
   ],
   "source": [
    "# checking for missing values in Test Data Set.\n",
    "test_data.isnull().sum()"
   ]
  },
  {
   "cell_type": "markdown",
   "id": "5430932c",
   "metadata": {
    "papermill": {
     "duration": 0.021626,
     "end_time": "2024-05-28T07:31:25.432150",
     "exception": false,
     "start_time": "2024-05-28T07:31:25.410524",
     "status": "completed"
    },
    "tags": []
   },
   "source": [
    "#### Splitting Data "
   ]
  },
  {
   "cell_type": "code",
   "execution_count": 20,
   "id": "e1e79c88",
   "metadata": {
    "execution": {
     "iopub.execute_input": "2024-05-28T07:31:25.477687Z",
     "iopub.status.busy": "2024-05-28T07:31:25.476852Z",
     "iopub.status.idle": "2024-05-28T07:31:25.485078Z",
     "shell.execute_reply": "2024-05-28T07:31:25.484081Z"
    },
    "papermill": {
     "duration": 0.033554,
     "end_time": "2024-05-28T07:31:25.487433",
     "exception": false,
     "start_time": "2024-05-28T07:31:25.453879",
     "status": "completed"
    },
    "tags": []
   },
   "outputs": [],
   "source": [
    "X_train = train_data.drop('Rating', axis=1)\n",
    "y_train = train_data['Rating']\n",
    "\n",
    "X_test = test_data.copy()"
   ]
  },
  {
   "cell_type": "markdown",
   "id": "6a47fb90",
   "metadata": {
    "papermill": {
     "duration": 0.022112,
     "end_time": "2024-05-28T07:31:25.533684",
     "exception": false,
     "start_time": "2024-05-28T07:31:25.511572",
     "status": "completed"
    },
    "tags": []
   },
   "source": [
    "# The dataset is appropriately preprocessed,\n"
   ]
  },
  {
   "cell_type": "markdown",
   "id": "fc624b97",
   "metadata": {
    "papermill": {
     "duration": 0.021577,
     "end_time": "2024-05-28T07:31:25.577114",
     "exception": false,
     "start_time": "2024-05-28T07:31:25.555537",
     "status": "completed"
    },
    "tags": []
   },
   "source": [
    "#### ✌️ scaling numerical features and encoding categorical features.\n"
   ]
  },
  {
   "cell_type": "markdown",
   "id": "ba341655",
   "metadata": {
    "papermill": {
     "duration": 0.021503,
     "end_time": "2024-05-28T07:31:25.620505",
     "exception": false,
     "start_time": "2024-05-28T07:31:25.599002",
     "status": "completed"
    },
    "tags": []
   },
   "source": [
    "### Appropriate usage of pipelines if any.\n"
   ]
  },
  {
   "cell_type": "code",
   "execution_count": 21,
   "id": "9426d5f0",
   "metadata": {
    "execution": {
     "iopub.execute_input": "2024-05-28T07:31:25.666965Z",
     "iopub.status.busy": "2024-05-28T07:31:25.666544Z",
     "iopub.status.idle": "2024-05-28T07:31:25.871533Z",
     "shell.execute_reply": "2024-05-28T07:31:25.870128Z"
    },
    "papermill": {
     "duration": 0.231904,
     "end_time": "2024-05-28T07:31:25.874226",
     "exception": false,
     "start_time": "2024-05-28T07:31:25.642322",
     "status": "completed"
    },
    "tags": []
   },
   "outputs": [],
   "source": [
    "from sklearn.pipeline import Pipeline\n",
    "from sklearn.preprocessing import MinMaxScaler, OneHotEncoder\n",
    "from sklearn.compose import ColumnTransformer\n",
    "\n",
    "\n",
    "# Preprocessing for numerical data with column name User_Reputation, BestScore\n",
    "numeric_transformer = Pipeline(steps=[\n",
    "    ('scaler', MinMaxScaler())\n",
    "])\n",
    "\n",
    "# Preprocessing for categorical data with column name RecipeNumber\n",
    "categorical_transformer = Pipeline(steps=[\n",
    "    ('onehot', OneHotEncoder(sparse_output=False))\n",
    "])\n",
    "\n",
    "# Combine preprocessing steps\n",
    "preprocessor = ColumnTransformer(\n",
    "    transformers=[\n",
    "        ('num', numeric_transformer, ['UserReputation', 'BestScore']),\n",
    "        ('cat', categorical_transformer, ['RecipeNumber'])\n",
    "    ],\n",
    "    remainder='passthrough', \n",
    "    verbose_feature_names_out=False\n",
    ").set_output(transform='pandas')\n"
   ]
  },
  {
   "cell_type": "code",
   "execution_count": 22,
   "id": "b1769f12",
   "metadata": {
    "execution": {
     "iopub.execute_input": "2024-05-28T07:31:25.921940Z",
     "iopub.status.busy": "2024-05-28T07:31:25.921103Z",
     "iopub.status.idle": "2024-05-28T07:31:25.994029Z",
     "shell.execute_reply": "2024-05-28T07:31:25.992905Z"
    },
    "papermill": {
     "duration": 0.100041,
     "end_time": "2024-05-28T07:31:25.996630",
     "exception": false,
     "start_time": "2024-05-28T07:31:25.896589",
     "status": "completed"
    },
    "tags": []
   },
   "outputs": [],
   "source": [
    "X_train = preprocessor.fit_transform(X_train)\n",
    "X_test = preprocessor.transform(X_test)"
   ]
  },
  {
   "cell_type": "code",
   "execution_count": 23,
   "id": "5b7b7fbd",
   "metadata": {
    "execution": {
     "iopub.execute_input": "2024-05-28T07:31:26.043392Z",
     "iopub.status.busy": "2024-05-28T07:31:26.042972Z",
     "iopub.status.idle": "2024-05-28T07:31:26.066518Z",
     "shell.execute_reply": "2024-05-28T07:31:26.065268Z"
    },
    "papermill": {
     "duration": 0.050306,
     "end_time": "2024-05-28T07:31:26.069404",
     "exception": false,
     "start_time": "2024-05-28T07:31:26.019098",
     "status": "completed"
    },
    "tags": []
   },
   "outputs": [
    {
     "data": {
      "text/html": [
       "<div>\n",
       "<style scoped>\n",
       "    .dataframe tbody tr th:only-of-type {\n",
       "        vertical-align: middle;\n",
       "    }\n",
       "\n",
       "    .dataframe tbody tr th {\n",
       "        vertical-align: top;\n",
       "    }\n",
       "\n",
       "    .dataframe thead th {\n",
       "        text-align: right;\n",
       "    }\n",
       "</style>\n",
       "<table border=\"1\" class=\"dataframe\">\n",
       "  <thead>\n",
       "    <tr style=\"text-align: right;\">\n",
       "      <th></th>\n",
       "      <th>UserReputation</th>\n",
       "      <th>BestScore</th>\n",
       "      <th>RecipeNumber_1</th>\n",
       "      <th>RecipeNumber_2</th>\n",
       "      <th>RecipeNumber_3</th>\n",
       "      <th>RecipeNumber_4</th>\n",
       "      <th>RecipeNumber_5</th>\n",
       "      <th>RecipeNumber_6</th>\n",
       "      <th>RecipeNumber_7</th>\n",
       "      <th>RecipeNumber_8</th>\n",
       "      <th>...</th>\n",
       "      <th>RecipeCode</th>\n",
       "      <th>RecipeName</th>\n",
       "      <th>CommentID</th>\n",
       "      <th>UserID</th>\n",
       "      <th>UserName</th>\n",
       "      <th>CreationTimestamp</th>\n",
       "      <th>ReplyCount</th>\n",
       "      <th>ThumbsUpCount</th>\n",
       "      <th>ThumbsDownCount</th>\n",
       "      <th>Recipe_Review</th>\n",
       "    </tr>\n",
       "  </thead>\n",
       "  <tbody>\n",
       "    <tr>\n",
       "      <th>0</th>\n",
       "      <td>0.039216</td>\n",
       "      <td>0.105708</td>\n",
       "      <td>0.0</td>\n",
       "      <td>0.0</td>\n",
       "      <td>0.0</td>\n",
       "      <td>0.0</td>\n",
       "      <td>0.0</td>\n",
       "      <td>0.0</td>\n",
       "      <td>0.0</td>\n",
       "      <td>0.0</td>\n",
       "      <td>...</td>\n",
       "      <td>12259</td>\n",
       "      <td>Banana Bars with Cream Cheese Frosting</td>\n",
       "      <td>sp_aUSaElGf_12259_c_149978</td>\n",
       "      <td>u_1oKVaBmiEKwAFyiHrDLoWpbel0J</td>\n",
       "      <td>misscoffeepot</td>\n",
       "      <td>1622717078</td>\n",
       "      <td>0</td>\n",
       "      <td>0</td>\n",
       "      <td>0</td>\n",
       "      <td>great recipe! I have made them just as written...</td>\n",
       "    </tr>\n",
       "  </tbody>\n",
       "</table>\n",
       "<p>1 rows × 113 columns</p>\n",
       "</div>"
      ],
      "text/plain": [
       "   UserReputation  BestScore  RecipeNumber_1  RecipeNumber_2  RecipeNumber_3  \\\n",
       "0        0.039216   0.105708             0.0             0.0             0.0   \n",
       "\n",
       "   RecipeNumber_4  RecipeNumber_5  RecipeNumber_6  RecipeNumber_7  \\\n",
       "0             0.0             0.0             0.0             0.0   \n",
       "\n",
       "   RecipeNumber_8  ...  RecipeCode                              RecipeName  \\\n",
       "0             0.0  ...       12259  Banana Bars with Cream Cheese Frosting   \n",
       "\n",
       "                    CommentID                         UserID       UserName  \\\n",
       "0  sp_aUSaElGf_12259_c_149978  u_1oKVaBmiEKwAFyiHrDLoWpbel0J  misscoffeepot   \n",
       "\n",
       "   CreationTimestamp  ReplyCount  ThumbsUpCount  ThumbsDownCount  \\\n",
       "0         1622717078           0              0                0   \n",
       "\n",
       "                                       Recipe_Review  \n",
       "0  great recipe! I have made them just as written...  \n",
       "\n",
       "[1 rows x 113 columns]"
      ]
     },
     "execution_count": 23,
     "metadata": {},
     "output_type": "execute_result"
    }
   ],
   "source": [
    "X_train.head(1)"
   ]
  },
  {
   "cell_type": "markdown",
   "id": "38f3e4de",
   "metadata": {
    "papermill": {
     "duration": 0.021882,
     "end_time": "2024-05-28T07:31:26.113577",
     "exception": false,
     "start_time": "2024-05-28T07:31:26.091695",
     "status": "completed"
    },
    "tags": []
   },
   "source": [
    "# Feature engineering/extraction.\n"
   ]
  },
  {
   "cell_type": "markdown",
   "id": "473a11cf",
   "metadata": {
    "papermill": {
     "duration": 0.022014,
     "end_time": "2024-05-28T07:31:26.157811",
     "exception": false,
     "start_time": "2024-05-28T07:31:26.135797",
     "status": "completed"
    },
    "tags": []
   },
   "source": [
    "### Dropping Redudent Columns with `RecipeNumber`, `RecipeCode`, and `RecipeName`"
   ]
  },
  {
   "cell_type": "code",
   "execution_count": 24,
   "id": "b375a1e7",
   "metadata": {
    "execution": {
     "iopub.execute_input": "2024-05-28T07:31:26.206016Z",
     "iopub.status.busy": "2024-05-28T07:31:26.205629Z",
     "iopub.status.idle": "2024-05-28T07:31:26.221622Z",
     "shell.execute_reply": "2024-05-28T07:31:26.220467Z"
    },
    "papermill": {
     "duration": 0.041744,
     "end_time": "2024-05-28T07:31:26.223803",
     "exception": false,
     "start_time": "2024-05-28T07:31:26.182059",
     "status": "completed"
    },
    "tags": []
   },
   "outputs": [],
   "source": [
    "X_train.drop(['RecipeCode','RecipeName'], axis=1, inplace=True)\n",
    "X_test.drop(['RecipeCode','RecipeName'], axis=1, inplace=True)"
   ]
  },
  {
   "cell_type": "markdown",
   "id": "3c8b8151",
   "metadata": {
    "papermill": {
     "duration": 0.022118,
     "end_time": "2024-05-28T07:31:26.268292",
     "exception": false,
     "start_time": "2024-05-28T07:31:26.246174",
     "status": "completed"
    },
    "tags": []
   },
   "source": [
    "### Converting timestamp to Greeting of the day i.e (Morning, Evening, Afternoon, Night) and Weekend that store True/False."
   ]
  },
  {
   "cell_type": "code",
   "execution_count": 25,
   "id": "48fcd830",
   "metadata": {
    "execution": {
     "iopub.execute_input": "2024-05-28T07:31:26.315124Z",
     "iopub.status.busy": "2024-05-28T07:31:26.314699Z",
     "iopub.status.idle": "2024-05-28T07:31:26.546763Z",
     "shell.execute_reply": "2024-05-28T07:31:26.545286Z"
    },
    "papermill": {
     "duration": 0.25908,
     "end_time": "2024-05-28T07:31:26.549851",
     "exception": false,
     "start_time": "2024-05-28T07:31:26.290771",
     "status": "completed"
    },
    "tags": []
   },
   "outputs": [],
   "source": [
    "X_train['CreationTimestamp'] = pd.to_datetime(X_train['CreationTimestamp'])\n",
    "X_test['CreationTimestamp'] = pd.to_datetime(X_test['CreationTimestamp'])\n",
    "\n",
    "def greeting_of_day(x):    \n",
    "    if x.hour < 12:\n",
    "        #morning\n",
    "        return 1\n",
    "    elif 12 <= x.hour < 17:\n",
    "        #afternoon\n",
    "        return 2\n",
    "    elif 17 <= x.hour < 20:\n",
    "        #evening\n",
    "        return 3\n",
    "    else:\n",
    "        #night\n",
    "        return 4\n",
    "    \n",
    "def is_weekend(x):\n",
    "    if x.weekday() in [5,6]:\n",
    "        return 1\n",
    "    else:\n",
    "        return 0    \n",
    "\n",
    "X_train['Greeting_of_day'] = X_train['CreationTimestamp'].apply(greeting_of_day)\n",
    "X_train['Is_weekend'] = X_train['CreationTimestamp'].apply(is_weekend)\n",
    "\n",
    "X_test['Greeting_of_day'] = X_test['CreationTimestamp'].apply(greeting_of_day)\n",
    "X_test['Is_weekend'] = X_test['CreationTimestamp'].apply(is_weekend)\n",
    "\n",
    "X_train.drop('CreationTimestamp', axis=1, inplace=True)\n",
    "X_test.drop('CreationTimestamp', axis=1, inplace=True)"
   ]
  },
  {
   "cell_type": "markdown",
   "id": "5e26f035",
   "metadata": {
    "papermill": {
     "duration": 0.02674,
     "end_time": "2024-05-28T07:31:26.604648",
     "exception": false,
     "start_time": "2024-05-28T07:31:26.577908",
     "status": "completed"
    },
    "tags": []
   },
   "source": [
    "### Applying PCA"
   ]
  },
  {
   "cell_type": "code",
   "execution_count": 26,
   "id": "7a7bab55",
   "metadata": {
    "execution": {
     "iopub.execute_input": "2024-05-28T07:31:26.651103Z",
     "iopub.status.busy": "2024-05-28T07:31:26.650285Z",
     "iopub.status.idle": "2024-05-28T07:31:27.023837Z",
     "shell.execute_reply": "2024-05-28T07:31:27.022587Z"
    },
    "papermill": {
     "duration": 0.400354,
     "end_time": "2024-05-28T07:31:27.027160",
     "exception": false,
     "start_time": "2024-05-28T07:31:26.626806",
     "status": "completed"
    },
    "tags": []
   },
   "outputs": [],
   "source": [
    "from sklearn.decomposition import PCA\n",
    "\n",
    "pca = PCA(n_components=108)\n",
    "\n",
    "#apply PCA to train data \n",
    "X_train_pca = pca.fit_transform(X_train.select_dtypes(exclude=['object']))\n",
    "\n",
    "# apply PCA to test data \n",
    "X_test_pca = pca.transform(X_test.select_dtypes(exclude=['object']))\n",
    "\n",
    "\n",
    "X_train_pca = pd.DataFrame(X_train_pca)\n",
    "X_test_pca = pd.DataFrame(X_test_pca)"
   ]
  },
  {
   "cell_type": "markdown",
   "id": "3f77847c",
   "metadata": {
    "papermill": {
     "duration": 0.043952,
     "end_time": "2024-05-28T07:31:27.136461",
     "exception": false,
     "start_time": "2024-05-28T07:31:27.092509",
     "status": "completed"
    },
    "tags": []
   },
   "source": [
    "### Vectorizing Review column using TfID\n",
    "\n"
   ]
  },
  {
   "cell_type": "code",
   "execution_count": 27,
   "id": "f0ea792c",
   "metadata": {
    "execution": {
     "iopub.execute_input": "2024-05-28T07:31:27.184921Z",
     "iopub.status.busy": "2024-05-28T07:31:27.184517Z",
     "iopub.status.idle": "2024-05-28T07:31:27.767718Z",
     "shell.execute_reply": "2024-05-28T07:31:27.766632Z"
    },
    "papermill": {
     "duration": 0.609102,
     "end_time": "2024-05-28T07:31:27.770217",
     "exception": false,
     "start_time": "2024-05-28T07:31:27.161115",
     "status": "completed"
    },
    "tags": []
   },
   "outputs": [],
   "source": [
    "# vectorizing Recipe_Review\n",
    "from sklearn.feature_extraction.text import TfidfVectorizer\n",
    "\n",
    "tfidf = TfidfVectorizer(lowercase=True, analyzer='word', stop_words= 'english')\n",
    "testing = tfidf.fit_transform(X_train['Recipe_Review'])\n",
    "testing_test = tfidf.transform(X_test['Recipe_Review'])"
   ]
  },
  {
   "cell_type": "markdown",
   "id": "64a9d03d",
   "metadata": {
    "papermill": {
     "duration": 0.022842,
     "end_time": "2024-05-28T07:31:27.815347",
     "exception": false,
     "start_time": "2024-05-28T07:31:27.792505",
     "status": "completed"
    },
    "tags": []
   },
   "source": [
    "- `lowercase=True`: This parameter ensures that all words are converted to lowercase before vectorization. It helps in avoiding duplication of words due to case differences, ensuring consistency in the representation of words.\n",
    "\n",
    "- `analyzer='word'`: This parameter specifies that the analyzer will treat each word as a token for vectorization. In this mode, the input is expected to be a sequence of strings or bytes, and the built-in tokenizer splits the input text into words based on white spaces. Other options include `'char'` for character n-grams, which treats each character as a separate token.\n",
    "\n",
    "- `stop_words='english'`: This parameter removes common English stop words (e.g., \"the\", \"is\", \"in\") during vectorization. Stop words are frequently occurring words in a language that usually do not carry significant meaning and may introduce noise in the analysis. By specifying `'english'`, the vectorizer utilizes a predefined list of English stop words provided by scikit-learn, helping to improve the quality of the TF-IDF representation by filtering out these common words.\n"
   ]
  },
  {
   "cell_type": "code",
   "execution_count": 28,
   "id": "739c0ce0",
   "metadata": {
    "execution": {
     "iopub.execute_input": "2024-05-28T07:31:27.862770Z",
     "iopub.status.busy": "2024-05-28T07:31:27.862361Z",
     "iopub.status.idle": "2024-05-28T07:31:33.379327Z",
     "shell.execute_reply": "2024-05-28T07:31:33.377877Z"
    },
    "papermill": {
     "duration": 5.544064,
     "end_time": "2024-05-28T07:31:33.382729",
     "exception": false,
     "start_time": "2024-05-28T07:31:27.838665",
     "status": "completed"
    },
    "tags": []
   },
   "outputs": [],
   "source": [
    "# merging the vectorized data with the original data\n",
    "X_train = pd.concat([X_train, pd.DataFrame(testing.toarray(), columns=tfidf.get_feature_names_out())], axis=1)\n",
    "X_test = pd.concat([X_test, pd.DataFrame(testing_test.toarray(), columns=tfidf.get_feature_names_out())], axis=1)\n",
    "\n",
    "# dropping Recipe_Review column\n",
    "X_train.drop('Recipe_Review', axis=1, inplace=True)\n",
    "X_test.drop('Recipe_Review', axis=1, inplace=True)"
   ]
  },
  {
   "cell_type": "markdown",
   "id": "68ea970b",
   "metadata": {
    "papermill": {
     "duration": 0.022441,
     "end_time": "2024-05-28T07:31:33.432141",
     "exception": false,
     "start_time": "2024-05-28T07:31:33.409700",
     "status": "completed"
    },
    "tags": []
   },
   "source": [
    "## Checking for the remaining Categorical Features:"
   ]
  },
  {
   "cell_type": "code",
   "execution_count": 29,
   "id": "6ab61c49",
   "metadata": {
    "execution": {
     "iopub.execute_input": "2024-05-28T07:31:33.479070Z",
     "iopub.status.busy": "2024-05-28T07:31:33.478542Z",
     "iopub.status.idle": "2024-05-28T07:31:33.495649Z",
     "shell.execute_reply": "2024-05-28T07:31:33.494612Z"
    },
    "papermill": {
     "duration": 0.043929,
     "end_time": "2024-05-28T07:31:33.498408",
     "exception": false,
     "start_time": "2024-05-28T07:31:33.454479",
     "status": "completed"
    },
    "tags": []
   },
   "outputs": [
    {
     "data": {
      "text/html": [
       "<div>\n",
       "<style scoped>\n",
       "    .dataframe tbody tr th:only-of-type {\n",
       "        vertical-align: middle;\n",
       "    }\n",
       "\n",
       "    .dataframe tbody tr th {\n",
       "        vertical-align: top;\n",
       "    }\n",
       "\n",
       "    .dataframe thead th {\n",
       "        text-align: right;\n",
       "    }\n",
       "</style>\n",
       "<table border=\"1\" class=\"dataframe\">\n",
       "  <thead>\n",
       "    <tr style=\"text-align: right;\">\n",
       "      <th></th>\n",
       "      <th>CommentID</th>\n",
       "      <th>UserID</th>\n",
       "      <th>UserName</th>\n",
       "    </tr>\n",
       "  </thead>\n",
       "  <tbody>\n",
       "    <tr>\n",
       "      <th>0</th>\n",
       "      <td>sp_aUSaElGf_41384_c_341929</td>\n",
       "      <td>u_1oKc4U6bh65cEli8Z8eTIf98Vpr</td>\n",
       "      <td>kalloween</td>\n",
       "    </tr>\n",
       "    <tr>\n",
       "      <th>1</th>\n",
       "      <td>sp_aUSaElGf_3143_c_274545</td>\n",
       "      <td>u_1oKW5seFLQMSwAeOfBVmwJizy5D</td>\n",
       "      <td>chocolate desert</td>\n",
       "    </tr>\n",
       "    <tr>\n",
       "      <th>2</th>\n",
       "      <td>sp_aUSaElGf_3143_c_398512</td>\n",
       "      <td>u_1oKZ6GUIAIol8xe6oEI7t1Mpxdz</td>\n",
       "      <td>Vantreesta</td>\n",
       "    </tr>\n",
       "    <tr>\n",
       "      <th>3</th>\n",
       "      <td>sp_aUSaElGf_1324_c_431662</td>\n",
       "      <td>u_1oKWCP33NVk4Osfpu4VJuIckEF0</td>\n",
       "      <td>Roberta L.Beauchamp</td>\n",
       "    </tr>\n",
       "    <tr>\n",
       "      <th>4</th>\n",
       "      <td>sp_aUSaElGf_32264_c_423935</td>\n",
       "      <td>u_1oKVhIJMuUlrSCVkbO1jheVTol8</td>\n",
       "      <td>fhquilting</td>\n",
       "    </tr>\n",
       "    <tr>\n",
       "      <th>...</th>\n",
       "      <td>...</td>\n",
       "      <td>...</td>\n",
       "      <td>...</td>\n",
       "    </tr>\n",
       "    <tr>\n",
       "      <th>4541</th>\n",
       "      <td>sp_aUSaElGf_17310_c_310012</td>\n",
       "      <td>u_1oKYP0QIv00q3K9Z5U0TosT5gYx</td>\n",
       "      <td>jsantullo</td>\n",
       "    </tr>\n",
       "    <tr>\n",
       "      <th>4542</th>\n",
       "      <td>sp_aUSaElGf_26937_c_331905</td>\n",
       "      <td>u_1oKVlhuSfIH4M8gwWLvmkvs3215</td>\n",
       "      <td>homeoftaste</td>\n",
       "    </tr>\n",
       "    <tr>\n",
       "      <th>4543</th>\n",
       "      <td>sp_aUSaElGf_41095_c_112060</td>\n",
       "      <td>u_1oKVb3oC9QR5uDI8OqeaPncMtBe</td>\n",
       "      <td>cmfisher</td>\n",
       "    </tr>\n",
       "    <tr>\n",
       "      <th>4544</th>\n",
       "      <td>sp_aUSaElGf_19731_c_391682</td>\n",
       "      <td>u_1oKcs7T7xAY63ZrRKCwH8ccshww</td>\n",
       "      <td>danalu8</td>\n",
       "    </tr>\n",
       "    <tr>\n",
       "      <th>4545</th>\n",
       "      <td>sp_aUSaElGf_42873_c_113484</td>\n",
       "      <td>u_1oKVnzyJyDQtTpG0U7QQIHaw5o2</td>\n",
       "      <td>KrystalK87</td>\n",
       "    </tr>\n",
       "  </tbody>\n",
       "</table>\n",
       "<p>4546 rows × 3 columns</p>\n",
       "</div>"
      ],
      "text/plain": [
       "                       CommentID                         UserID  \\\n",
       "0     sp_aUSaElGf_41384_c_341929  u_1oKc4U6bh65cEli8Z8eTIf98Vpr   \n",
       "1      sp_aUSaElGf_3143_c_274545  u_1oKW5seFLQMSwAeOfBVmwJizy5D   \n",
       "2      sp_aUSaElGf_3143_c_398512  u_1oKZ6GUIAIol8xe6oEI7t1Mpxdz   \n",
       "3      sp_aUSaElGf_1324_c_431662  u_1oKWCP33NVk4Osfpu4VJuIckEF0   \n",
       "4     sp_aUSaElGf_32264_c_423935  u_1oKVhIJMuUlrSCVkbO1jheVTol8   \n",
       "...                          ...                            ...   \n",
       "4541  sp_aUSaElGf_17310_c_310012  u_1oKYP0QIv00q3K9Z5U0TosT5gYx   \n",
       "4542  sp_aUSaElGf_26937_c_331905  u_1oKVlhuSfIH4M8gwWLvmkvs3215   \n",
       "4543  sp_aUSaElGf_41095_c_112060  u_1oKVb3oC9QR5uDI8OqeaPncMtBe   \n",
       "4544  sp_aUSaElGf_19731_c_391682  u_1oKcs7T7xAY63ZrRKCwH8ccshww   \n",
       "4545  sp_aUSaElGf_42873_c_113484  u_1oKVnzyJyDQtTpG0U7QQIHaw5o2   \n",
       "\n",
       "                 UserName  \n",
       "0               kalloween  \n",
       "1        chocolate desert  \n",
       "2              Vantreesta  \n",
       "3     Roberta L.Beauchamp  \n",
       "4              fhquilting  \n",
       "...                   ...  \n",
       "4541            jsantullo  \n",
       "4542          homeoftaste  \n",
       "4543             cmfisher  \n",
       "4544              danalu8  \n",
       "4545           KrystalK87  \n",
       "\n",
       "[4546 rows x 3 columns]"
      ]
     },
     "execution_count": 29,
     "metadata": {},
     "output_type": "execute_result"
    }
   ],
   "source": [
    "X_test.select_dtypes(include=['object'])"
   ]
  },
  {
   "cell_type": "markdown",
   "id": "f083a8bb",
   "metadata": {
    "papermill": {
     "duration": 0.02308,
     "end_time": "2024-05-28T07:31:33.552870",
     "exception": false,
     "start_time": "2024-05-28T07:31:33.529790",
     "status": "completed"
    },
    "tags": []
   },
   "source": [
    "### Dropping `CommentID`, `UserID` and `UserName` columns"
   ]
  },
  {
   "cell_type": "code",
   "execution_count": 30,
   "id": "013c9eb6",
   "metadata": {
    "execution": {
     "iopub.execute_input": "2024-05-28T07:31:33.601350Z",
     "iopub.status.busy": "2024-05-28T07:31:33.600846Z",
     "iopub.status.idle": "2024-05-28T07:31:34.074711Z",
     "shell.execute_reply": "2024-05-28T07:31:34.073533Z"
    },
    "papermill": {
     "duration": 0.501494,
     "end_time": "2024-05-28T07:31:34.077211",
     "exception": false,
     "start_time": "2024-05-28T07:31:33.575717",
     "status": "completed"
    },
    "tags": []
   },
   "outputs": [],
   "source": [
    "#Dropping `CommentID`, `UserID` and `UserName` columns\n",
    "X_train.drop(['CommentID', 'UserID', 'UserName'], axis=1, inplace=True)\n",
    "X_test.drop(['CommentID', 'UserID', 'UserName'], axis=1, inplace=True)"
   ]
  },
  {
   "cell_type": "markdown",
   "id": "7660054a",
   "metadata": {
    "papermill": {
     "duration": 0.022418,
     "end_time": "2024-05-28T07:31:34.123468",
     "exception": false,
     "start_time": "2024-05-28T07:31:34.101050",
     "status": "completed"
    },
    "tags": []
   },
   "source": [
    "# Hyperparameter tuning of the model to optimize its performance.\n"
   ]
  },
  {
   "cell_type": "markdown",
   "id": "eed94dc5",
   "metadata": {
    "papermill": {
     "duration": 0.023233,
     "end_time": "2024-05-28T07:31:34.170056",
     "exception": false,
     "start_time": "2024-05-28T07:31:34.146823",
     "status": "completed"
    },
    "tags": []
   },
   "source": [
    "## Code Snippet\n",
    "![](https://i.imgur.com/8u7PaSy.png)\n"
   ]
  },
  {
   "cell_type": "code",
   "execution_count": 31,
   "id": "acf52f41",
   "metadata": {
    "execution": {
     "iopub.execute_input": "2024-05-28T07:31:34.217090Z",
     "iopub.status.busy": "2024-05-28T07:31:34.216706Z",
     "iopub.status.idle": "2024-05-28T07:38:44.119132Z",
     "shell.execute_reply": "2024-05-28T07:38:44.117635Z"
    },
    "papermill": {
     "duration": 429.952207,
     "end_time": "2024-05-28T07:38:44.144893",
     "exception": false,
     "start_time": "2024-05-28T07:31:34.192686",
     "status": "completed"
    },
    "tags": []
   },
   "outputs": [
    {
     "name": "stdout",
     "output_type": "stream",
     "text": [
      "Random Forest - Mean Accuracy: 0.7697271927251393\n",
      "-----------------------------------\n",
      "XGBoost - Mean Accuracy: 0.7733939571721913\n",
      "-----------------------------------\n",
      "LightGBM - Mean Accuracy: 0.778527427398064\n",
      "-----------------------------------\n",
      "Multinomial Naive Bayes - Mean Accuracy: 0.7104722792607803\n",
      "-----------------------------------\n",
      "SGD Classifier - Mean Accuracy: 0.45174537987679675\n",
      "-----------------------------------\n"
     ]
    }
   ],
   "source": [
    "from sklearn.ensemble import RandomForestClassifier\n",
    "from xgboost import XGBClassifier\n",
    "from lightgbm import LGBMClassifier\n",
    "from sklearn.naive_bayes import MultinomialNB\n",
    "from sklearn.linear_model import SGDClassifier\n",
    "from sklearn.model_selection import cross_val_score\n",
    "\n",
    "# Initialize models\n",
    "models = {\n",
    "    \"Random Forest\": RandomForestClassifier(),\n",
    "    \"XGBoost\": XGBClassifier(),\n",
    "    \"LightGBM\": LGBMClassifier(),\n",
    "    \"Multinomial Naive Bayes\": MultinomialNB(),\n",
    "    \"SGD Classifier\": SGDClassifier()\n",
    "}\n",
    "\n",
    "# Dictionary to store mean accuracy scores\n",
    "accuracy_scores = {}\n",
    "\n",
    "# Run all the models\n",
    "for model_name, model in models.items():\n",
    "    scores = cross_val_score(model, X_train, y_train, cv=2, scoring='accuracy', n_jobs=-1)\n",
    "    accuracy_scores[model_name] = scores.mean()\n",
    "\n",
    "# Print results\n",
    "for model_name, score in accuracy_scores.items():\n",
    "    print(f'{model_name} - Mean Accuracy: {score}')\n",
    "    print('-----------------------------------')\n"
   ]
  },
  {
   "cell_type": "markdown",
   "id": "599eb96e",
   "metadata": {
    "papermill": {
     "duration": 0.024173,
     "end_time": "2024-05-28T07:38:44.192423",
     "exception": false,
     "start_time": "2024-05-28T07:38:44.168250",
     "status": "completed"
    },
    "tags": []
   },
   "source": [
    "## Summary of Model Performance\n",
    "\n",
    "After evaluating several machine learning models on our dataset, we have identified the top performers based on their accuracy scores:\n",
    "\n",
    "1. **LightGBM Classifier (LGBMClassifier):**  \n",
    "   - Accuracy: 0.7860\n",
    "\n",
    "2. **XGBoost Classifier (XGBClassifier):**  \n",
    "   - Accuracy: 0.7799\n",
    "\n",
    "3. **Random Forest Classifier (RandomForestClassifier):**  \n",
    "   - Accuracy: 0.7742\n",
    "\n",
    "These three models have demonstrated the highest accuracy among the ones tested. We will further explore and fine-tune these models to select the best one for our specific use case.\n"
   ]
  },
  {
   "cell_type": "code",
   "execution_count": 32,
   "id": "32379914",
   "metadata": {
    "execution": {
     "iopub.execute_input": "2024-05-28T07:38:44.240235Z",
     "iopub.status.busy": "2024-05-28T07:38:44.239796Z",
     "iopub.status.idle": "2024-05-28T07:43:42.473962Z",
     "shell.execute_reply": "2024-05-28T07:43:42.472685Z"
    },
    "papermill": {
     "duration": 298.283578,
     "end_time": "2024-05-28T07:43:42.498815",
     "exception": false,
     "start_time": "2024-05-28T07:38:44.215237",
     "status": "completed"
    },
    "tags": []
   },
   "outputs": [
    {
     "name": "stdout",
     "output_type": "stream",
     "text": [
      "Fitting 2 folds for each of 1 candidates, totalling 2 fits\n"
     ]
    },
    {
     "name": "stderr",
     "output_type": "stream",
     "text": [
      "/opt/conda/lib/python3.10/site-packages/sklearn/model_selection/_search.py:305: UserWarning: The total space of parameters 1 is smaller than n_iter=10. Running 1 iterations. For exhaustive searches, use GridSearchCV.\n",
      "  warnings.warn(\n"
     ]
    },
    {
     "data": {
      "text/plain": [
       "0.7605602816075095"
      ]
     },
     "execution_count": 32,
     "metadata": {},
     "output_type": "execute_result"
    }
   ],
   "source": [
    "# Randomize Search CV   \n",
    "from sklearn.model_selection import RandomizedSearchCV\n",
    "\n",
    "#best_params\n",
    "params =  {'n_estimators': [500],\n",
    "          'max_depth': [40],\n",
    "          'min_samples_split': [2],\n",
    "          'min_samples_leaf': [4],\n",
    "          'bootstrap': [False]\n",
    "         }\n",
    "\n",
    "# hyperparameters for RandomForestClassifier\n",
    "# params = {'n_estimators': [100, 200, 300, 400, 500],\n",
    "#           'max_depth': [10, 20, 30, 40, 50],\n",
    "#           'min_samples_split': [2, 5, 10],\n",
    "#           'min_samples_leaf': [1, 2, 4],\n",
    "#           'bootstrap': [True, False]\n",
    "#          }\n",
    "rf = RandomForestClassifier()\n",
    "rf_random = RandomizedSearchCV(estimator=rf, param_distributions=params, n_iter=10, cv=2, verbose=2, random_state=42, n_jobs=-1)\n",
    "rf_random.fit(X_train, y_train)\n",
    "\n",
    "# best parameters\n",
    "rf_random.best_params_ \n",
    "\n",
    "rf = RandomForestClassifier(**rf_random.best_params_)\n",
    "rf.fit(X_train, y_train)\n",
    "rf_pred = rf.predict(X_test)\n",
    "\n",
    "#Score \n",
    "rf.score(X_train, y_train)"
   ]
  },
  {
   "cell_type": "code",
   "execution_count": 33,
   "id": "1d62d887",
   "metadata": {
    "execution": {
     "iopub.execute_input": "2024-05-28T07:43:42.547811Z",
     "iopub.status.busy": "2024-05-28T07:43:42.547043Z",
     "iopub.status.idle": "2024-05-28T07:43:45.544999Z",
     "shell.execute_reply": "2024-05-28T07:43:45.543735Z"
    },
    "papermill": {
     "duration": 3.025476,
     "end_time": "2024-05-28T07:43:45.547884",
     "exception": false,
     "start_time": "2024-05-28T07:43:42.522408",
     "status": "completed"
    },
    "tags": []
   },
   "outputs": [
    {
     "name": "stdout",
     "output_type": "stream",
     "text": [
      "Classification Report:\n",
      "              precision    recall  f1-score   support\n",
      "\n",
      "           0       0.00      0.00      0.00      1272\n",
      "           1       0.00      0.00      0.00       210\n",
      "           2       0.00      0.00      0.00       174\n",
      "           3       0.00      0.00      0.00       368\n",
      "           4       0.00      0.00      0.00      1241\n",
      "           5       0.76      1.00      0.86     10371\n",
      "\n",
      "    accuracy                           0.76     13636\n",
      "   macro avg       0.13      0.17      0.14     13636\n",
      "weighted avg       0.58      0.76      0.66     13636\n",
      "\n"
     ]
    },
    {
     "name": "stderr",
     "output_type": "stream",
     "text": [
      "/opt/conda/lib/python3.10/site-packages/sklearn/metrics/_classification.py:1344: UndefinedMetricWarning: Precision and F-score are ill-defined and being set to 0.0 in labels with no predicted samples. Use `zero_division` parameter to control this behavior.\n",
      "  _warn_prf(average, modifier, msg_start, len(result))\n",
      "/opt/conda/lib/python3.10/site-packages/sklearn/metrics/_classification.py:1344: UndefinedMetricWarning: Precision and F-score are ill-defined and being set to 0.0 in labels with no predicted samples. Use `zero_division` parameter to control this behavior.\n",
      "  _warn_prf(average, modifier, msg_start, len(result))\n",
      "/opt/conda/lib/python3.10/site-packages/sklearn/metrics/_classification.py:1344: UndefinedMetricWarning: Precision and F-score are ill-defined and being set to 0.0 in labels with no predicted samples. Use `zero_division` parameter to control this behavior.\n",
      "  _warn_prf(average, modifier, msg_start, len(result))\n"
     ]
    }
   ],
   "source": [
    "from sklearn.metrics import classification_report\n",
    "\n",
    "# Generate classification report\n",
    "class_report = classification_report(y_train, rf.predict(X_train))\n",
    "print(\"Classification Report:\")\n",
    "print(class_report)"
   ]
  },
  {
   "cell_type": "code",
   "execution_count": 34,
   "id": "eb1aef2c",
   "metadata": {
    "execution": {
     "iopub.execute_input": "2024-05-28T07:43:45.595757Z",
     "iopub.status.busy": "2024-05-28T07:43:45.594925Z",
     "iopub.status.idle": "2024-05-28T07:43:45.610984Z",
     "shell.execute_reply": "2024-05-28T07:43:45.609695Z"
    },
    "papermill": {
     "duration": 0.042813,
     "end_time": "2024-05-28T07:43:45.613620",
     "exception": false,
     "start_time": "2024-05-28T07:43:45.570807",
     "status": "completed"
    },
    "tags": []
   },
   "outputs": [],
   "source": [
    "# Submission by passing id and rating\n",
    "submission = pd.DataFrame({'ID': np.arange(1,4547), 'Rating': rf_pred})\n",
    "submission.to_csv('submission_rf.csv', index=False)"
   ]
  },
  {
   "cell_type": "markdown",
   "id": "db2d0531",
   "metadata": {
    "papermill": {
     "duration": 0.022928,
     "end_time": "2024-05-28T07:43:45.659542",
     "exception": false,
     "start_time": "2024-05-28T07:43:45.636614",
     "status": "completed"
    },
    "tags": []
   },
   "source": [
    "### XGBClassifier"
   ]
  },
  {
   "cell_type": "code",
   "execution_count": 35,
   "id": "c063c9ce",
   "metadata": {
    "execution": {
     "iopub.execute_input": "2024-05-28T07:43:45.708542Z",
     "iopub.status.busy": "2024-05-28T07:43:45.707590Z",
     "iopub.status.idle": "2024-05-28T09:18:33.910514Z",
     "shell.execute_reply": "2024-05-28T09:18:33.908461Z"
    },
    "papermill": {
     "duration": 5688.25467,
     "end_time": "2024-05-28T09:18:33.937189",
     "exception": false,
     "start_time": "2024-05-28T07:43:45.682519",
     "status": "completed"
    },
    "tags": []
   },
   "outputs": [
    {
     "name": "stdout",
     "output_type": "stream",
     "text": [
      "Fitting 2 folds for each of 1 candidates, totalling 2 fits\n"
     ]
    },
    {
     "name": "stderr",
     "output_type": "stream",
     "text": [
      "/opt/conda/lib/python3.10/site-packages/sklearn/model_selection/_search.py:305: UserWarning: The total space of parameters 1 is smaller than n_iter=10. Running 1 iterations. For exhaustive searches, use GridSearchCV.\n",
      "  warnings.warn(\n"
     ]
    },
    {
     "name": "stdout",
     "output_type": "stream",
     "text": [
      "[CV] END bootstrap=False, max_depth=40, min_samples_leaf=4, min_samples_split=2, n_estimators=500; total time=  53.7s\n",
      "[CV] END .learning_rate=0.05, max_depth=20, n_estimators=400; total time=24.1min\n",
      "[CV] END bootstrap=False, max_depth=40, min_samples_leaf=4, min_samples_split=2, n_estimators=500; total time=  53.3s\n",
      "[CV] END .learning_rate=0.05, max_depth=20, n_estimators=400; total time=24.2min\n"
     ]
    },
    {
     "data": {
      "text/plain": [
       "0.9829128776767381"
      ]
     },
     "execution_count": 35,
     "metadata": {},
     "output_type": "execute_result"
    }
   ],
   "source": [
    "from sklearn.model_selection import RandomizedSearchCV\n",
    "\n",
    "\n",
    "# parameter for XGBClassifier\n",
    "params = {'n_estimators': [400],\n",
    "          'max_depth': [20],\n",
    "          'learning_rate': [0.05],\n",
    "#           'subsample': [0.7],\n",
    "#           'colsample_bytree': [0.7],\n",
    "#           'colsample_bylevel': [1.0],\n",
    "#           'colsample_bynode': [0.5]\n",
    "          }\n",
    "# parameter for XGBClassifier\n",
    "# params = {'n_estimators': [100, 200, 300, 400, 500],\n",
    "#           'max_depth': [10, 20, 30, 40, 50],\n",
    "#           'learning_rate': [0.01, 0.05, 0.1, 0.3, 0.5],\n",
    "#           'subsample': [0.5, 0.7, 1.0],\n",
    "#           'colsample_bytree': [0.5, 0.7, 1.0],\n",
    "#           'colsample_bylevel': [0.5, 0.7, 1.0],\n",
    "#           'colsample_bynode': [0.5, 0.7, 1.0]\n",
    "#           }\n",
    "\n",
    "xgb = XGBClassifier()\n",
    "\n",
    "xgb_random = RandomizedSearchCV(estimator=xgb, param_distributions=params, n_iter=10, cv=2, verbose=2, random_state=42, n_jobs=-1)\n",
    "xgb_random.fit(X_train, y_train)\n",
    "\n",
    "\n",
    "# best parameters\n",
    "xgb_random.best_params_\n",
    "\n",
    "xgb = XGBClassifier(**xgb_random.best_params_)\n",
    "xgb.fit(X_train, y_train)\n",
    "xgb_pred = xgb.predict(X_test)\n",
    "\n",
    "#Score\n",
    "xgb.score(X_train, y_train)"
   ]
  },
  {
   "cell_type": "code",
   "execution_count": 36,
   "id": "6670d10e",
   "metadata": {
    "execution": {
     "iopub.execute_input": "2024-05-28T09:18:33.987682Z",
     "iopub.status.busy": "2024-05-28T09:18:33.987252Z",
     "iopub.status.idle": "2024-05-28T09:18:41.385779Z",
     "shell.execute_reply": "2024-05-28T09:18:41.384432Z"
    },
    "papermill": {
     "duration": 7.428184,
     "end_time": "2024-05-28T09:18:41.388725",
     "exception": false,
     "start_time": "2024-05-28T09:18:33.960541",
     "status": "completed"
    },
    "tags": []
   },
   "outputs": [
    {
     "name": "stdout",
     "output_type": "stream",
     "text": [
      "Classification Report:\n",
      "              precision    recall  f1-score   support\n",
      "\n",
      "           0       1.00      0.93      0.96      1272\n",
      "           1       1.00      1.00      1.00       210\n",
      "           2       1.00      0.99      1.00       174\n",
      "           3       1.00      0.96      0.98       368\n",
      "           4       1.00      0.90      0.95      1241\n",
      "           5       0.98      1.00      0.99     10371\n",
      "\n",
      "    accuracy                           0.98     13636\n",
      "   macro avg       1.00      0.96      0.98     13636\n",
      "weighted avg       0.98      0.98      0.98     13636\n",
      "\n"
     ]
    }
   ],
   "source": [
    "from sklearn.metrics import classification_report\n",
    "\n",
    "# Generate classification report\n",
    "class_report = classification_report(y_train, xgb.predict(X_train))\n",
    "print(\"Classification Report:\")\n",
    "print(class_report)"
   ]
  },
  {
   "cell_type": "code",
   "execution_count": 37,
   "id": "fa676010",
   "metadata": {
    "execution": {
     "iopub.execute_input": "2024-05-28T09:18:41.439693Z",
     "iopub.status.busy": "2024-05-28T09:18:41.439308Z",
     "iopub.status.idle": "2024-05-28T09:18:41.456846Z",
     "shell.execute_reply": "2024-05-28T09:18:41.455467Z"
    },
    "papermill": {
     "duration": 0.04691,
     "end_time": "2024-05-28T09:18:41.459876",
     "exception": false,
     "start_time": "2024-05-28T09:18:41.412966",
     "status": "completed"
    },
    "tags": []
   },
   "outputs": [],
   "source": [
    "# Submission by passing id and rating \n",
    "submission = pd.DataFrame({'ID': np.arange(1,4547), 'Rating': xgb_pred})\n",
    "submission.to_csv('submission_xgb.csv', index=False)\n",
    "\n"
   ]
  },
  {
   "cell_type": "markdown",
   "id": "f188c556",
   "metadata": {
    "papermill": {
     "duration": 0.023819,
     "end_time": "2024-05-28T09:18:41.507732",
     "exception": false,
     "start_time": "2024-05-28T09:18:41.483913",
     "status": "completed"
    },
    "tags": []
   },
   "source": [
    "### LGBMClassifier"
   ]
  },
  {
   "cell_type": "code",
   "execution_count": 38,
   "id": "2e537809",
   "metadata": {
    "execution": {
     "iopub.execute_input": "2024-05-28T09:18:41.556970Z",
     "iopub.status.busy": "2024-05-28T09:18:41.556553Z",
     "iopub.status.idle": "2024-05-28T09:21:03.992370Z",
     "shell.execute_reply": "2024-05-28T09:21:03.990958Z"
    },
    "papermill": {
     "duration": 142.487956,
     "end_time": "2024-05-28T09:21:04.019487",
     "exception": false,
     "start_time": "2024-05-28T09:18:41.531531",
     "status": "completed"
    },
    "tags": []
   },
   "outputs": [
    {
     "name": "stdout",
     "output_type": "stream",
     "text": [
      "Fitting 2 folds for each of 1 candidates, totalling 2 fits\n"
     ]
    },
    {
     "name": "stderr",
     "output_type": "stream",
     "text": [
      "/opt/conda/lib/python3.10/site-packages/sklearn/model_selection/_search.py:305: UserWarning: The total space of parameters 1 is smaller than n_iter=12. Running 1 iterations. For exhaustive searches, use GridSearchCV.\n",
      "  warnings.warn(\n"
     ]
    },
    {
     "data": {
      "text/plain": [
       "0.9823261953652097"
      ]
     },
     "execution_count": 38,
     "metadata": {},
     "output_type": "execute_result"
    }
   ],
   "source": [
    "# parameter for LGBMClassifier\n",
    "params = {\n",
    "    'n_estimators': [301],\n",
    "    'max_depth': [14],\n",
    "    'learning_rate': [0.1142],\n",
    "#     'num_leaves': [20],\n",
    "#     'subsample': [0.66],\n",
    "#     'colsample_bytree': [0.69],\n",
    "#     'reg_alpha': [0.95],\n",
    "#     'reg_lambda': [0.01],\n",
    "#     'min_child_samples': [7]\n",
    "\n",
    "}\n",
    "lgbm = LGBMClassifier()\n",
    "\n",
    "lgbm_random = RandomizedSearchCV(estimator=lgbm, param_distributions=params, n_iter=12, cv=2, verbose=2, random_state=42, n_jobs=-1)\n",
    "lgbm_random.fit(X_train, y_train)\n",
    "\n",
    "# best parameters\n",
    "lgbm_random.best_params_\n",
    "\n",
    "lgbm = LGBMClassifier(**lgbm_random.best_params_)\n",
    "lgbm.fit(X_train, y_train)\n",
    "lgbm_pred = lgbm.predict(X_test)\n",
    "\n",
    "#Score\n",
    "lgbm.score(X_train, y_train)"
   ]
  },
  {
   "cell_type": "code",
   "execution_count": 39,
   "id": "f58d0c11",
   "metadata": {
    "execution": {
     "iopub.execute_input": "2024-05-28T09:21:04.072021Z",
     "iopub.status.busy": "2024-05-28T09:21:04.071605Z",
     "iopub.status.idle": "2024-05-28T09:21:08.935976Z",
     "shell.execute_reply": "2024-05-28T09:21:08.934691Z"
    },
    "papermill": {
     "duration": 4.895261,
     "end_time": "2024-05-28T09:21:08.938638",
     "exception": false,
     "start_time": "2024-05-28T09:21:04.043377",
     "status": "completed"
    },
    "tags": []
   },
   "outputs": [
    {
     "name": "stdout",
     "output_type": "stream",
     "text": [
      "Classification Report:\n",
      "              precision    recall  f1-score   support\n",
      "\n",
      "           0       0.99      0.92      0.96      1272\n",
      "           1       1.00      1.00      1.00       210\n",
      "           2       1.00      1.00      1.00       174\n",
      "           3       1.00      1.00      1.00       368\n",
      "           4       1.00      0.89      0.94      1241\n",
      "           5       0.98      1.00      0.99     10371\n",
      "\n",
      "    accuracy                           0.98     13636\n",
      "   macro avg       0.99      0.97      0.98     13636\n",
      "weighted avg       0.98      0.98      0.98     13636\n",
      "\n"
     ]
    }
   ],
   "source": [
    "from sklearn.metrics import classification_report\n",
    "\n",
    "# Generate classification report\n",
    "class_report = classification_report(y_train, lgbm.predict(X_train))\n",
    "print(\"Classification Report:\")\n",
    "print(class_report)"
   ]
  },
  {
   "cell_type": "code",
   "execution_count": 40,
   "id": "9f70c6fb",
   "metadata": {
    "execution": {
     "iopub.execute_input": "2024-05-28T09:21:08.989045Z",
     "iopub.status.busy": "2024-05-28T09:21:08.988105Z",
     "iopub.status.idle": "2024-05-28T09:21:09.002076Z",
     "shell.execute_reply": "2024-05-28T09:21:09.001023Z"
    },
    "papermill": {
     "duration": 0.042175,
     "end_time": "2024-05-28T09:21:09.004565",
     "exception": false,
     "start_time": "2024-05-28T09:21:08.962390",
     "status": "completed"
    },
    "tags": []
   },
   "outputs": [],
   "source": [
    "# Submission by passing id and rating\n",
    "submission = pd.DataFrame({'ID': np.arange(1,4547), 'Rating': lgbm_pred})\n",
    "submission.to_csv('submission_lgbm.csv', index=False)"
   ]
  }
 ],
 "metadata": {
  "kaggle": {
   "accelerator": "none",
   "dataSources": [
    {
     "databundleVersionId": 7452256,
     "sourceId": 67079,
     "sourceType": "competition"
    }
   ],
   "dockerImageVersionId": 30635,
   "isGpuEnabled": false,
   "isInternetEnabled": true,
   "language": "python",
   "sourceType": "notebook"
  },
  "kernelspec": {
   "display_name": "Python 3",
   "language": "python",
   "name": "python3"
  },
  "language_info": {
   "codemirror_mode": {
    "name": "ipython",
    "version": 3
   },
   "file_extension": ".py",
   "mimetype": "text/x-python",
   "name": "python",
   "nbconvert_exporter": "python",
   "pygments_lexer": "ipython3",
   "version": "3.10.12"
  },
  "papermill": {
   "default_parameters": {},
   "duration": 6602.527126,
   "end_time": "2024-05-28T09:21:11.660821",
   "environment_variables": {},
   "exception": null,
   "input_path": "__notebook__.ipynb",
   "output_path": "__notebook__.ipynb",
   "parameters": {},
   "start_time": "2024-05-28T07:31:09.133695",
   "version": "2.4.0"
  }
 },
 "nbformat": 4,
 "nbformat_minor": 5
}
